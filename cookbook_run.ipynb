{
 "cells": [
  {
   "cell_type": "code",
   "execution_count": 77,
   "metadata": {},
   "outputs": [],
   "source": [
    "import numpy as np\n",
    "import pandas as pd\n",
    "import matplotlib.pyplot as plt\n",
    "import yfinance as yf\n",
    "from parameter import *"
   ]
  },
  {
   "cell_type": "code",
   "execution_count": 78,
   "metadata": {},
   "outputs": [
    {
     "name": "stdout",
     "output_type": "stream",
     "text": [
      "[*********************100%***********************]  10 of 10 completed\n"
     ]
    },
    {
     "data": {
      "text/html": [
       "<div>\n",
       "<style scoped>\n",
       "    .dataframe tbody tr th:only-of-type {\n",
       "        vertical-align: middle;\n",
       "    }\n",
       "\n",
       "    .dataframe tbody tr th {\n",
       "        vertical-align: top;\n",
       "    }\n",
       "\n",
       "    .dataframe thead th {\n",
       "        text-align: right;\n",
       "    }\n",
       "</style>\n",
       "<table border=\"1\" class=\"dataframe\">\n",
       "  <thead>\n",
       "    <tr style=\"text-align: right;\">\n",
       "      <th></th>\n",
       "      <th>AMZN</th>\n",
       "      <th>BAC</th>\n",
       "      <th>COST</th>\n",
       "      <th>DIS</th>\n",
       "      <th>DPZ</th>\n",
       "      <th>KO</th>\n",
       "      <th>MCD</th>\n",
       "      <th>MSFT</th>\n",
       "      <th>NAT</th>\n",
       "      <th>SBUX</th>\n",
       "    </tr>\n",
       "    <tr>\n",
       "      <th>Date</th>\n",
       "      <th></th>\n",
       "      <th></th>\n",
       "      <th></th>\n",
       "      <th></th>\n",
       "      <th></th>\n",
       "      <th></th>\n",
       "      <th></th>\n",
       "      <th></th>\n",
       "      <th></th>\n",
       "      <th></th>\n",
       "    </tr>\n",
       "  </thead>\n",
       "  <tbody>\n",
       "    <tr>\n",
       "      <th>2023-03-27</th>\n",
       "      <td>98.040001</td>\n",
       "      <td>28.490000</td>\n",
       "      <td>493.220001</td>\n",
       "      <td>95.620003</td>\n",
       "      <td>322.220001</td>\n",
       "      <td>61.349998</td>\n",
       "      <td>273.839996</td>\n",
       "      <td>276.380005</td>\n",
       "      <td>4.00</td>\n",
       "      <td>98.660004</td>\n",
       "    </tr>\n",
       "    <tr>\n",
       "      <th>2023-03-28</th>\n",
       "      <td>97.239998</td>\n",
       "      <td>28.120001</td>\n",
       "      <td>486.769989</td>\n",
       "      <td>94.820000</td>\n",
       "      <td>324.230011</td>\n",
       "      <td>61.419998</td>\n",
       "      <td>275.850006</td>\n",
       "      <td>275.230011</td>\n",
       "      <td>3.90</td>\n",
       "      <td>98.720001</td>\n",
       "    </tr>\n",
       "    <tr>\n",
       "      <th>2023-03-29</th>\n",
       "      <td>100.250000</td>\n",
       "      <td>28.670000</td>\n",
       "      <td>490.869995</td>\n",
       "      <td>96.870003</td>\n",
       "      <td>327.579987</td>\n",
       "      <td>61.860001</td>\n",
       "      <td>277.440002</td>\n",
       "      <td>280.510010</td>\n",
       "      <td>3.97</td>\n",
       "      <td>100.620003</td>\n",
       "    </tr>\n",
       "    <tr>\n",
       "      <th>2023-03-30</th>\n",
       "      <td>102.000000</td>\n",
       "      <td>28.299999</td>\n",
       "      <td>491.480011</td>\n",
       "      <td>98.099998</td>\n",
       "      <td>327.649994</td>\n",
       "      <td>61.849998</td>\n",
       "      <td>277.790009</td>\n",
       "      <td>284.049988</td>\n",
       "      <td>3.94</td>\n",
       "      <td>101.320000</td>\n",
       "    </tr>\n",
       "    <tr>\n",
       "      <th>2023-03-31</th>\n",
       "      <td>103.290001</td>\n",
       "      <td>28.600000</td>\n",
       "      <td>496.869995</td>\n",
       "      <td>100.129997</td>\n",
       "      <td>329.869995</td>\n",
       "      <td>62.029999</td>\n",
       "      <td>279.609985</td>\n",
       "      <td>288.299988</td>\n",
       "      <td>3.96</td>\n",
       "      <td>104.129997</td>\n",
       "    </tr>\n",
       "  </tbody>\n",
       "</table>\n",
       "</div>"
      ],
      "text/plain": [
       "                  AMZN        BAC        COST         DIS         DPZ  \\\n",
       "Date                                                                    \n",
       "2023-03-27   98.040001  28.490000  493.220001   95.620003  322.220001   \n",
       "2023-03-28   97.239998  28.120001  486.769989   94.820000  324.230011   \n",
       "2023-03-29  100.250000  28.670000  490.869995   96.870003  327.579987   \n",
       "2023-03-30  102.000000  28.299999  491.480011   98.099998  327.649994   \n",
       "2023-03-31  103.290001  28.600000  496.869995  100.129997  329.869995   \n",
       "\n",
       "                   KO         MCD        MSFT   NAT        SBUX  \n",
       "Date                                                             \n",
       "2023-03-27  61.349998  273.839996  276.380005  4.00   98.660004  \n",
       "2023-03-28  61.419998  275.850006  275.230011  3.90   98.720001  \n",
       "2023-03-29  61.860001  277.440002  280.510010  3.97  100.620003  \n",
       "2023-03-30  61.849998  277.790009  284.049988  3.94  101.320000  \n",
       "2023-03-31  62.029999  279.609985  288.299988  3.96  104.129997  "
      ]
     },
     "execution_count": 78,
     "metadata": {},
     "output_type": "execute_result"
    }
   ],
   "source": [
    "ohlc = yf.download(tickers, period=\"max\")\n",
    "prices = ohlc[\"Adj Close\"]\n",
    "prices.tail()"
   ]
  },
  {
   "cell_type": "code",
   "execution_count": 79,
   "metadata": {},
   "outputs": [
    {
     "name": "stdout",
     "output_type": "stream",
     "text": [
      "[*********************100%***********************]  1 of 1 completed\n"
     ]
    },
    {
     "data": {
      "text/plain": [
       "Date\n",
       "1993-01-29    25.122335\n",
       "1993-02-01    25.301029\n",
       "1993-02-02    25.354624\n",
       "1993-02-03    25.622650\n",
       "1993-02-04    25.729841\n",
       "Name: Adj Close, dtype: float64"
      ]
     },
     "execution_count": 79,
     "metadata": {},
     "output_type": "execute_result"
    }
   ],
   "source": [
    "market_prices = yf.download(\"SPY\", period=\"max\")[\"Adj Close\"]\n",
    "market_prices.head()"
   ]
  },
  {
   "cell_type": "code",
   "execution_count": 80,
   "metadata": {},
   "outputs": [
    {
     "data": {
      "text/plain": [
       "{'MSFT': 2146047492096,\n",
       " 'AMZN': 1058443624448,\n",
       " 'NAT': 826832192,\n",
       " 'BAC': 228779409408,\n",
       " 'DPZ': 11683467264,\n",
       " 'DIS': 182918479872,\n",
       " 'KO': 268360990720,\n",
       " 'MCD': 204533874688,\n",
       " 'COST': 220353396736,\n",
       " 'SBUX': 122995236864}"
      ]
     },
     "execution_count": 80,
     "metadata": {},
     "output_type": "execute_result"
    }
   ],
   "source": [
    "mcaps = {}\n",
    "for t in tickers:\n",
    "    stock = yf.Ticker(t)\n",
    "    mcaps[t] = stock.info[\"marketCap\"]\n",
    "mcaps"
   ]
  },
  {
   "cell_type": "code",
   "execution_count": 81,
   "metadata": {},
   "outputs": [
    {
     "data": {
      "text/plain": [
       "'1.5.4'"
      ]
     },
     "execution_count": 81,
     "metadata": {},
     "output_type": "execute_result"
    }
   ],
   "source": [
    "import pypfopt\n",
    "pypfopt.__version__"
   ]
  },
  {
   "cell_type": "code",
   "execution_count": 82,
   "metadata": {},
   "outputs": [
    {
     "data": {
      "text/plain": [
       "2.52988805675931"
      ]
     },
     "execution_count": 82,
     "metadata": {},
     "output_type": "execute_result"
    }
   ],
   "source": [
    "from pypfopt import black_litterman, risk_models\n",
    "from pypfopt import BlackLittermanModel, plotting\n",
    "\n",
    "S = risk_models.CovarianceShrinkage(prices).ledoit_wolf()\n",
    "delta = black_litterman.market_implied_risk_aversion(market_prices)\n",
    "delta"
   ]
  },
  {
   "cell_type": "code",
   "execution_count": 83,
   "metadata": {},
   "outputs": [
    {
     "data": {
      "image/png": "[encoded data removed]",
      "text/plain": [
       "<Figure size 640x480 with 2 Axes>"
      ]
     },
     "metadata": {},
     "output_type": "display_data"
    }
   ],
   "source": [
    "plotting.plot_covariance(S, plot_correlation=True);"
   ]
  },
  {
   "cell_type": "code",
   "execution_count": 84,
   "metadata": {},
   "outputs": [
    {
     "data": {
      "text/html": [
       "<div>\n",
       "<style scoped>\n",
       "    .dataframe tbody tr th:only-of-type {\n",
       "        vertical-align: middle;\n",
       "    }\n",
       "\n",
       "    .dataframe tbody tr th {\n",
       "        vertical-align: top;\n",
       "    }\n",
       "\n",
       "    .dataframe thead tr th {\n",
       "        text-align: left;\n",
       "    }\n",
       "\n",
       "    .dataframe thead tr:last-of-type th {\n",
       "        text-align: right;\n",
       "    }\n",
       "</style>\n",
       "<table border=\"1\" class=\"dataframe\">\n",
       "  <thead>\n",
       "    <tr>\n",
       "      <th></th>\n",
       "      <th colspan=\"10\" halign=\"left\">Adj Close</th>\n",
       "      <th>...</th>\n",
       "      <th colspan=\"10\" halign=\"left\">Volume</th>\n",
       "    </tr>\n",
       "    <tr>\n",
       "      <th></th>\n",
       "      <th>AMZN</th>\n",
       "      <th>BAC</th>\n",
       "      <th>COST</th>\n",
       "      <th>DIS</th>\n",
       "      <th>DPZ</th>\n",
       "      <th>KO</th>\n",
       "      <th>MCD</th>\n",
       "      <th>MSFT</th>\n",
       "      <th>NAT</th>\n",
       "      <th>SBUX</th>\n",
       "      <th>...</th>\n",
       "      <th>AMZN</th>\n",
       "      <th>BAC</th>\n",
       "      <th>COST</th>\n",
       "      <th>DIS</th>\n",
       "      <th>DPZ</th>\n",
       "      <th>KO</th>\n",
       "      <th>MCD</th>\n",
       "      <th>MSFT</th>\n",
       "      <th>NAT</th>\n",
       "      <th>SBUX</th>\n",
       "    </tr>\n",
       "    <tr>\n",
       "      <th>Date</th>\n",
       "      <th></th>\n",
       "      <th></th>\n",
       "      <th></th>\n",
       "      <th></th>\n",
       "      <th></th>\n",
       "      <th></th>\n",
       "      <th></th>\n",
       "      <th></th>\n",
       "      <th></th>\n",
       "      <th></th>\n",
       "      <th></th>\n",
       "      <th></th>\n",
       "      <th></th>\n",
       "      <th></th>\n",
       "      <th></th>\n",
       "      <th></th>\n",
       "      <th></th>\n",
       "      <th></th>\n",
       "      <th></th>\n",
       "      <th></th>\n",
       "      <th></th>\n",
       "    </tr>\n",
       "  </thead>\n",
       "  <tbody>\n",
       "    <tr>\n",
       "      <th>1962-01-02</th>\n",
       "      <td>NaN</td>\n",
       "      <td>NaN</td>\n",
       "      <td>NaN</td>\n",
       "      <td>0.058398</td>\n",
       "      <td>NaN</td>\n",
       "      <td>0.049286</td>\n",
       "      <td>NaN</td>\n",
       "      <td>NaN</td>\n",
       "      <td>NaN</td>\n",
       "      <td>NaN</td>\n",
       "      <td>...</td>\n",
       "      <td>NaN</td>\n",
       "      <td>NaN</td>\n",
       "      <td>NaN</td>\n",
       "      <td>841958</td>\n",
       "      <td>NaN</td>\n",
       "      <td>806400</td>\n",
       "      <td>NaN</td>\n",
       "      <td>NaN</td>\n",
       "      <td>NaN</td>\n",
       "      <td>NaN</td>\n",
       "    </tr>\n",
       "    <tr>\n",
       "      <th>1962-01-03</th>\n",
       "      <td>NaN</td>\n",
       "      <td>NaN</td>\n",
       "      <td>NaN</td>\n",
       "      <td>0.059182</td>\n",
       "      <td>NaN</td>\n",
       "      <td>0.048188</td>\n",
       "      <td>NaN</td>\n",
       "      <td>NaN</td>\n",
       "      <td>NaN</td>\n",
       "      <td>NaN</td>\n",
       "      <td>...</td>\n",
       "      <td>NaN</td>\n",
       "      <td>NaN</td>\n",
       "      <td>NaN</td>\n",
       "      <td>801865</td>\n",
       "      <td>NaN</td>\n",
       "      <td>1574400</td>\n",
       "      <td>NaN</td>\n",
       "      <td>NaN</td>\n",
       "      <td>NaN</td>\n",
       "      <td>NaN</td>\n",
       "    </tr>\n",
       "    <tr>\n",
       "      <th>1962-01-04</th>\n",
       "      <td>NaN</td>\n",
       "      <td>NaN</td>\n",
       "      <td>NaN</td>\n",
       "      <td>0.059182</td>\n",
       "      <td>NaN</td>\n",
       "      <td>0.048554</td>\n",
       "      <td>NaN</td>\n",
       "      <td>NaN</td>\n",
       "      <td>NaN</td>\n",
       "      <td>NaN</td>\n",
       "      <td>...</td>\n",
       "      <td>NaN</td>\n",
       "      <td>NaN</td>\n",
       "      <td>NaN</td>\n",
       "      <td>962238</td>\n",
       "      <td>NaN</td>\n",
       "      <td>844800</td>\n",
       "      <td>NaN</td>\n",
       "      <td>NaN</td>\n",
       "      <td>NaN</td>\n",
       "      <td>NaN</td>\n",
       "    </tr>\n",
       "    <tr>\n",
       "      <th>1962-01-05</th>\n",
       "      <td>NaN</td>\n",
       "      <td>NaN</td>\n",
       "      <td>NaN</td>\n",
       "      <td>0.059378</td>\n",
       "      <td>NaN</td>\n",
       "      <td>0.047456</td>\n",
       "      <td>NaN</td>\n",
       "      <td>NaN</td>\n",
       "      <td>NaN</td>\n",
       "      <td>NaN</td>\n",
       "      <td>...</td>\n",
       "      <td>NaN</td>\n",
       "      <td>NaN</td>\n",
       "      <td>NaN</td>\n",
       "      <td>962238</td>\n",
       "      <td>NaN</td>\n",
       "      <td>1420800</td>\n",
       "      <td>NaN</td>\n",
       "      <td>NaN</td>\n",
       "      <td>NaN</td>\n",
       "      <td>NaN</td>\n",
       "    </tr>\n",
       "    <tr>\n",
       "      <th>1962-01-08</th>\n",
       "      <td>NaN</td>\n",
       "      <td>NaN</td>\n",
       "      <td>NaN</td>\n",
       "      <td>0.059182</td>\n",
       "      <td>NaN</td>\n",
       "      <td>0.046968</td>\n",
       "      <td>NaN</td>\n",
       "      <td>NaN</td>\n",
       "      <td>NaN</td>\n",
       "      <td>NaN</td>\n",
       "      <td>...</td>\n",
       "      <td>NaN</td>\n",
       "      <td>NaN</td>\n",
       "      <td>NaN</td>\n",
       "      <td>1282984</td>\n",
       "      <td>NaN</td>\n",
       "      <td>2035200</td>\n",
       "      <td>NaN</td>\n",
       "      <td>NaN</td>\n",
       "      <td>NaN</td>\n",
       "      <td>NaN</td>\n",
       "    </tr>\n",
       "    <tr>\n",
       "      <th>...</th>\n",
       "      <td>...</td>\n",
       "      <td>...</td>\n",
       "      <td>...</td>\n",
       "      <td>...</td>\n",
       "      <td>...</td>\n",
       "      <td>...</td>\n",
       "      <td>...</td>\n",
       "      <td>...</td>\n",
       "      <td>...</td>\n",
       "      <td>...</td>\n",
       "      <td>...</td>\n",
       "      <td>...</td>\n",
       "      <td>...</td>\n",
       "      <td>...</td>\n",
       "      <td>...</td>\n",
       "      <td>...</td>\n",
       "      <td>...</td>\n",
       "      <td>...</td>\n",
       "      <td>...</td>\n",
       "      <td>...</td>\n",
       "      <td>...</td>\n",
       "    </tr>\n",
       "    <tr>\n",
       "      <th>2023-03-27</th>\n",
       "      <td>98.040001</td>\n",
       "      <td>28.490000</td>\n",
       "      <td>493.220001</td>\n",
       "      <td>95.620003</td>\n",
       "      <td>322.220001</td>\n",
       "      <td>61.349998</td>\n",
       "      <td>273.839996</td>\n",
       "      <td>276.380005</td>\n",
       "      <td>4.00</td>\n",
       "      <td>98.660004</td>\n",
       "      <td>...</td>\n",
       "      <td>46721300.0</td>\n",
       "      <td>102469800.0</td>\n",
       "      <td>1452100.0</td>\n",
       "      <td>7487900</td>\n",
       "      <td>1338600.0</td>\n",
       "      <td>12777400</td>\n",
       "      <td>2799100.0</td>\n",
       "      <td>26840200.0</td>\n",
       "      <td>2694500.0</td>\n",
       "      <td>6022200.0</td>\n",
       "    </tr>\n",
       "    <tr>\n",
       "      <th>2023-03-28</th>\n",
       "      <td>97.239998</td>\n",
       "      <td>28.120001</td>\n",
       "      <td>486.769989</td>\n",
       "      <td>94.820000</td>\n",
       "      <td>324.230011</td>\n",
       "      <td>61.419998</td>\n",
       "      <td>275.850006</td>\n",
       "      <td>275.230011</td>\n",
       "      <td>3.90</td>\n",
       "      <td>98.720001</td>\n",
       "      <td>...</td>\n",
       "      <td>38720100.0</td>\n",
       "      <td>63416500.0</td>\n",
       "      <td>1407800.0</td>\n",
       "      <td>5426100</td>\n",
       "      <td>556500.0</td>\n",
       "      <td>10925700</td>\n",
       "      <td>2036000.0</td>\n",
       "      <td>21878600.0</td>\n",
       "      <td>2565200.0</td>\n",
       "      <td>4709800.0</td>\n",
       "    </tr>\n",
       "    <tr>\n",
       "      <th>2023-03-29</th>\n",
       "      <td>100.250000</td>\n",
       "      <td>28.670000</td>\n",
       "      <td>490.869995</td>\n",
       "      <td>96.870003</td>\n",
       "      <td>327.579987</td>\n",
       "      <td>61.860001</td>\n",
       "      <td>277.440002</td>\n",
       "      <td>280.510010</td>\n",
       "      <td>3.97</td>\n",
       "      <td>100.620003</td>\n",
       "      <td>...</td>\n",
       "      <td>49783300.0</td>\n",
       "      <td>62666400.0</td>\n",
       "      <td>1643000.0</td>\n",
       "      <td>5889100</td>\n",
       "      <td>809800.0</td>\n",
       "      <td>9441000</td>\n",
       "      <td>2053400.0</td>\n",
       "      <td>25087000.0</td>\n",
       "      <td>3059500.0</td>\n",
       "      <td>4946600.0</td>\n",
       "    </tr>\n",
       "    <tr>\n",
       "      <th>2023-03-30</th>\n",
       "      <td>102.000000</td>\n",
       "      <td>28.299999</td>\n",
       "      <td>491.480011</td>\n",
       "      <td>98.099998</td>\n",
       "      <td>327.649994</td>\n",
       "      <td>61.849998</td>\n",
       "      <td>277.790009</td>\n",
       "      <td>284.049988</td>\n",
       "      <td>3.94</td>\n",
       "      <td>101.320000</td>\n",
       "      <td>...</td>\n",
       "      <td>53633400.0</td>\n",
       "      <td>67427100.0</td>\n",
       "      <td>1545500.0</td>\n",
       "      <td>7669500</td>\n",
       "      <td>788400.0</td>\n",
       "      <td>9870700</td>\n",
       "      <td>1788800.0</td>\n",
       "      <td>25053400.0</td>\n",
       "      <td>2193700.0</td>\n",
       "      <td>4082600.0</td>\n",
       "    </tr>\n",
       "    <tr>\n",
       "      <th>2023-03-31</th>\n",
       "      <td>103.290001</td>\n",
       "      <td>28.600000</td>\n",
       "      <td>496.869995</td>\n",
       "      <td>100.129997</td>\n",
       "      <td>329.869995</td>\n",
       "      <td>62.029999</td>\n",
       "      <td>279.609985</td>\n",
       "      <td>288.299988</td>\n",
       "      <td>3.96</td>\n",
       "      <td>104.129997</td>\n",
       "      <td>...</td>\n",
       "      <td>56704300.0</td>\n",
       "      <td>56417400.0</td>\n",
       "      <td>2081300.0</td>\n",
       "      <td>8911100</td>\n",
       "      <td>1087000.0</td>\n",
       "      <td>14439400</td>\n",
       "      <td>2902100.0</td>\n",
       "      <td>32740300.0</td>\n",
       "      <td>2772400.0</td>\n",
       "      <td>6899300.0</td>\n",
       "    </tr>\n",
       "  </tbody>\n",
       "</table>\n",
       "<p>15418 rows × 60 columns</p>\n",
       "</div>"
      ],
      "text/plain": [
       "             Adj Close                                                 \\\n",
       "                  AMZN        BAC        COST         DIS         DPZ   \n",
       "Date                                                                    \n",
       "1962-01-02         NaN        NaN         NaN    0.058398         NaN   \n",
       "1962-01-03         NaN        NaN         NaN    0.059182         NaN   \n",
       "1962-01-04         NaN        NaN         NaN    0.059182         NaN   \n",
       "1962-01-05         NaN        NaN         NaN    0.059378         NaN   \n",
       "1962-01-08         NaN        NaN         NaN    0.059182         NaN   \n",
       "...                ...        ...         ...         ...         ...   \n",
       "2023-03-27   98.040001  28.490000  493.220001   95.620003  322.220001   \n",
       "2023-03-28   97.239998  28.120001  486.769989   94.820000  324.230011   \n",
       "2023-03-29  100.250000  28.670000  490.869995   96.870003  327.579987   \n",
       "2023-03-30  102.000000  28.299999  491.480011   98.099998  327.649994   \n",
       "2023-03-31  103.290001  28.600000  496.869995  100.129997  329.869995   \n",
       "\n",
       "                                                                 ...  \\\n",
       "                   KO         MCD        MSFT   NAT        SBUX  ...   \n",
       "Date                                                             ...   \n",
       "1962-01-02   0.049286         NaN         NaN   NaN         NaN  ...   \n",
       "1962-01-03   0.048188         NaN         NaN   NaN         NaN  ...   \n",
       "1962-01-04   0.048554         NaN         NaN   NaN         NaN  ...   \n",
       "1962-01-05   0.047456         NaN         NaN   NaN         NaN  ...   \n",
       "1962-01-08   0.046968         NaN         NaN   NaN         NaN  ...   \n",
       "...               ...         ...         ...   ...         ...  ...   \n",
       "2023-03-27  61.349998  273.839996  276.380005  4.00   98.660004  ...   \n",
       "2023-03-28  61.419998  275.850006  275.230011  3.90   98.720001  ...   \n",
       "2023-03-29  61.860001  277.440002  280.510010  3.97  100.620003  ...   \n",
       "2023-03-30  61.849998  277.790009  284.049988  3.94  101.320000  ...   \n",
       "2023-03-31  62.029999  279.609985  288.299988  3.96  104.129997  ...   \n",
       "\n",
       "                Volume                                                        \\\n",
       "                  AMZN          BAC       COST      DIS        DPZ        KO   \n",
       "Date                                                                           \n",
       "1962-01-02         NaN          NaN        NaN   841958        NaN    806400   \n",
       "1962-01-03         NaN          NaN        NaN   801865        NaN   1574400   \n",
       "1962-01-04         NaN          NaN        NaN   962238        NaN    844800   \n",
       "1962-01-05         NaN          NaN        NaN   962238        NaN   1420800   \n",
       "1962-01-08         NaN          NaN        NaN  1282984        NaN   2035200   \n",
       "...                ...          ...        ...      ...        ...       ...   \n",
       "2023-03-27  46721300.0  102469800.0  1452100.0  7487900  1338600.0  12777400   \n",
       "2023-03-28  38720100.0   63416500.0  1407800.0  5426100   556500.0  10925700   \n",
       "2023-03-29  49783300.0   62666400.0  1643000.0  5889100   809800.0   9441000   \n",
       "2023-03-30  53633400.0   67427100.0  1545500.0  7669500   788400.0   9870700   \n",
       "2023-03-31  56704300.0   56417400.0  2081300.0  8911100  1087000.0  14439400   \n",
       "\n",
       "                                                         \n",
       "                  MCD        MSFT        NAT       SBUX  \n",
       "Date                                                     \n",
       "1962-01-02        NaN         NaN        NaN        NaN  \n",
       "1962-01-03        NaN         NaN        NaN        NaN  \n",
       "1962-01-04        NaN         NaN        NaN        NaN  \n",
       "1962-01-05        NaN         NaN        NaN        NaN  \n",
       "1962-01-08        NaN         NaN        NaN        NaN  \n",
       "...               ...         ...        ...        ...  \n",
       "2023-03-27  2799100.0  26840200.0  2694500.0  6022200.0  \n",
       "2023-03-28  2036000.0  21878600.0  2565200.0  4709800.0  \n",
       "2023-03-29  2053400.0  25087000.0  3059500.0  4946600.0  \n",
       "2023-03-30  1788800.0  25053400.0  2193700.0  4082600.0  \n",
       "2023-03-31  2902100.0  32740300.0  2772400.0  6899300.0  \n",
       "\n",
       "[15418 rows x 60 columns]"
      ]
     },
     "execution_count": 84,
     "metadata": {},
     "output_type": "execute_result"
    }
   ],
   "source": [
    "ohlc"
   ]
  },
  {
   "cell_type": "code",
   "execution_count": 85,
   "metadata": {},
   "outputs": [
    {
     "data": {
      "text/plain": [
       "AMZN    0.153989\n",
       "BAC     0.099083\n",
       "COST    0.076925\n",
       "DIS     0.092459\n",
       "DPZ     0.047785\n",
       "KO      0.064336\n",
       "MCD     0.068175\n",
       "MSFT    0.138535\n",
       "NAT     0.050725\n",
       "SBUX    0.078605\n",
       "dtype: float64"
      ]
     },
     "execution_count": 85,
     "metadata": {},
     "output_type": "execute_result"
    }
   ],
   "source": [
    "market_prior = black_litterman.market_implied_prior_returns(mcaps, delta, S)\n",
    "market_prior"
   ]
  },
  {
   "cell_type": "code",
   "execution_count": 86,
   "metadata": {},
   "outputs": [
    {
     "data": {
      "image/png": "[encoded data removed]",
      "text/plain": [
       "<Figure size 1000x500 with 1 Axes>"
      ]
     },
     "metadata": {},
     "output_type": "display_data"
    }
   ],
   "source": [
    "market_prior.plot.barh(figsize=(10,5));"
   ]
  },
  {
   "cell_type": "code",
   "execution_count": 87,
   "metadata": {},
   "outputs": [],
   "source": [
    "# You don't have to provide views on all the assets\n",
    "viewdict = {\n",
    "    \"AMZN\": 0.10,\n",
    "    \"BAC\": 0.30,\n",
    "    \"COST\": 0.05,\n",
    "    \"DIS\": 0.05,\n",
    "    \"DPZ\": 0.20,\n",
    "    \"KO\": -0.05,  # I think Coca-Cola will go down 5%\n",
    "    \"MCD\": 0.15,\n",
    "    \"MSFT\": 0.10,\n",
    "    \"NAT\": 0.50,  # but low confidence, which will be reflected later\n",
    "    \"SBUX\": 0.10\n",
    "}\n",
    "\n",
    "bl = BlackLittermanModel(S, pi=market_prior, absolute_views=viewdict)"
   ]
  },
  {
   "cell_type": "code",
   "execution_count": 88,
   "metadata": {},
   "outputs": [],
   "source": [
    "confidences = [\n",
    "    0.6,\n",
    "    0.4,\n",
    "    0.2,\n",
    "    0.5,\n",
    "    0.7, # confident in dominos\n",
    "    0.7, # confident KO will do poorly\n",
    "    0.7, \n",
    "    0.5,\n",
    "    0.1,\n",
    "    0.4\n",
    "]"
   ]
  },
  {
   "cell_type": "code",
   "execution_count": 89,
   "metadata": {},
   "outputs": [],
   "source": [
    "bl = BlackLittermanModel(S, pi=market_prior, absolute_views=viewdict, omega=\"idzorek\", view_confidences=confidences)"
   ]
  },
  {
   "cell_type": "code",
   "execution_count": 90,
   "metadata": {},
   "outputs": [
    {
     "data": {
      "image/png": "[encoded data removed]",
      "text/plain": [
       "<Figure size 700x700 with 1 Axes>"
      ]
     },
     "metadata": {},
     "output_type": "display_data"
    }
   ],
   "source": [
    "fig, ax = plt.subplots(figsize=(7,7))\n",
    "im = ax.imshow(bl.omega)\n",
    "\n",
    "# We want to show all ticks...\n",
    "ax.set_xticks(np.arange(len(bl.tickers)))\n",
    "ax.set_yticks(np.arange(len(bl.tickers)))\n",
    "\n",
    "ax.set_xticklabels(bl.tickers)\n",
    "ax.set_yticklabels(bl.tickers)\n",
    "plt.show()"
   ]
  },
  {
   "cell_type": "code",
   "execution_count": 91,
   "metadata": {},
   "outputs": [
    {
     "data": {
      "text/plain": [
       "array([0.00461442, 0.00889596, 0.01216516, 0.00498349, 0.00085237,\n",
       "       0.00114837, 0.00171482, 0.0034777 , 0.04090159, 0.00541687])"
      ]
     },
     "execution_count": 91,
     "metadata": {},
     "output_type": "execute_result"
    }
   ],
   "source": [
    "np.diag(bl.omega)"
   ]
  },
  {
   "cell_type": "code",
   "execution_count": 92,
   "metadata": {},
   "outputs": [],
   "source": [
    "intervals = [\n",
    "    (0, 0.25),\n",
    "    (0.1, 0.4),\n",
    "    (-0.1, 0.15),\n",
    "    (-0.05, 0.1),\n",
    "    (0.15, 0.25),\n",
    "    (-0.1, 0),\n",
    "    (0.1, 0.2),\n",
    "    (0.08, 0.12),\n",
    "    (0.1, 0.9),\n",
    "    (0, 0.3)\n",
    "]"
   ]
  },
  {
   "cell_type": "code",
   "execution_count": 93,
   "metadata": {},
   "outputs": [
    {
     "name": "stdout",
     "output_type": "stream",
     "text": [
      "[0.015625, 0.022500000000000006, 0.015625, 0.0056250000000000015, 0.0025000000000000005, 0.0025000000000000005, 0.0025000000000000005, 0.00039999999999999986, 0.16000000000000003, 0.0225]\n"
     ]
    }
   ],
   "source": [
    "variances = []\n",
    "for lb, ub in intervals:\n",
    "    sigma = (ub - lb)/2\n",
    "    variances.append(sigma ** 2)\n",
    "\n",
    "print(variances)\n",
    "omega = np.diag(variances)"
   ]
  },
  {
   "cell_type": "code",
   "execution_count": 94,
   "metadata": {},
   "outputs": [],
   "source": [
    "# We are using the shortcut to automatically compute market-implied prior\n",
    "bl = BlackLittermanModel(S, pi=\"market\", market_caps=mcaps, risk_aversion=delta,\n",
    "                        absolute_views=viewdict, omega=omega)"
   ]
  },
  {
   "cell_type": "code",
   "execution_count": 95,
   "metadata": {},
   "outputs": [
    {
     "data": {
      "text/plain": [
       "AMZN    0.137123\n",
       "BAC     0.130428\n",
       "COST    0.061689\n",
       "DIS     0.071748\n",
       "DPZ     0.103869\n",
       "KO      0.008279\n",
       "MCD     0.103933\n",
       "MSFT    0.103791\n",
       "NAT     0.061181\n",
       "SBUX    0.082168\n",
       "dtype: float64"
      ]
     },
     "execution_count": 95,
     "metadata": {},
     "output_type": "execute_result"
    }
   ],
   "source": [
    "# Posterior estimate of returns\n",
    "ret_bl = bl.bl_returns()\n",
    "ret_bl"
   ]
  },
  {
   "cell_type": "code",
   "execution_count": 96,
   "metadata": {},
   "outputs": [
    {
     "data": {
      "text/html": [
       "<div>\n",
       "<style scoped>\n",
       "    .dataframe tbody tr th:only-of-type {\n",
       "        vertical-align: middle;\n",
       "    }\n",
       "\n",
       "    .dataframe tbody tr th {\n",
       "        vertical-align: top;\n",
       "    }\n",
       "\n",
       "    .dataframe thead th {\n",
       "        text-align: right;\n",
       "    }\n",
       "</style>\n",
       "<table border=\"1\" class=\"dataframe\">\n",
       "  <thead>\n",
       "    <tr style=\"text-align: right;\">\n",
       "      <th></th>\n",
       "      <th>Prior</th>\n",
       "      <th>Posterior</th>\n",
       "      <th>Views</th>\n",
       "    </tr>\n",
       "  </thead>\n",
       "  <tbody>\n",
       "    <tr>\n",
       "      <th>AMZN</th>\n",
       "      <td>0.153989</td>\n",
       "      <td>0.137123</td>\n",
       "      <td>0.10</td>\n",
       "    </tr>\n",
       "    <tr>\n",
       "      <th>BAC</th>\n",
       "      <td>0.099083</td>\n",
       "      <td>0.130428</td>\n",
       "      <td>0.30</td>\n",
       "    </tr>\n",
       "    <tr>\n",
       "      <th>COST</th>\n",
       "      <td>0.076925</td>\n",
       "      <td>0.061689</td>\n",
       "      <td>0.05</td>\n",
       "    </tr>\n",
       "    <tr>\n",
       "      <th>DIS</th>\n",
       "      <td>0.092459</td>\n",
       "      <td>0.071748</td>\n",
       "      <td>0.05</td>\n",
       "    </tr>\n",
       "    <tr>\n",
       "      <th>DPZ</th>\n",
       "      <td>0.047785</td>\n",
       "      <td>0.103869</td>\n",
       "      <td>0.20</td>\n",
       "    </tr>\n",
       "    <tr>\n",
       "      <th>KO</th>\n",
       "      <td>0.064336</td>\n",
       "      <td>0.008279</td>\n",
       "      <td>-0.05</td>\n",
       "    </tr>\n",
       "    <tr>\n",
       "      <th>MCD</th>\n",
       "      <td>0.068175</td>\n",
       "      <td>0.103933</td>\n",
       "      <td>0.15</td>\n",
       "    </tr>\n",
       "    <tr>\n",
       "      <th>MSFT</th>\n",
       "      <td>0.138535</td>\n",
       "      <td>0.103791</td>\n",
       "      <td>0.10</td>\n",
       "    </tr>\n",
       "    <tr>\n",
       "      <th>NAT</th>\n",
       "      <td>0.050725</td>\n",
       "      <td>0.061181</td>\n",
       "      <td>0.50</td>\n",
       "    </tr>\n",
       "    <tr>\n",
       "      <th>SBUX</th>\n",
       "      <td>0.078605</td>\n",
       "      <td>0.082168</td>\n",
       "      <td>0.10</td>\n",
       "    </tr>\n",
       "  </tbody>\n",
       "</table>\n",
       "</div>"
      ],
      "text/plain": [
       "         Prior  Posterior  Views\n",
       "AMZN  0.153989   0.137123   0.10\n",
       "BAC   0.099083   0.130428   0.30\n",
       "COST  0.076925   0.061689   0.05\n",
       "DIS   0.092459   0.071748   0.05\n",
       "DPZ   0.047785   0.103869   0.20\n",
       "KO    0.064336   0.008279  -0.05\n",
       "MCD   0.068175   0.103933   0.15\n",
       "MSFT  0.138535   0.103791   0.10\n",
       "NAT   0.050725   0.061181   0.50\n",
       "SBUX  0.078605   0.082168   0.10"
      ]
     },
     "execution_count": 96,
     "metadata": {},
     "output_type": "execute_result"
    }
   ],
   "source": [
    "rets_df = pd.DataFrame([market_prior, ret_bl, pd.Series(viewdict)], \n",
    "             index=[\"Prior\", \"Posterior\", \"Views\"]).T\n",
    "rets_df"
   ]
  },
  {
   "cell_type": "code",
   "execution_count": 97,
   "metadata": {},
   "outputs": [
    {
     "data": {
      "image/png": "[encoded data removed]",
      "text/plain": [
       "<Figure size 1200x800 with 1 Axes>"
      ]
     },
     "metadata": {},
     "output_type": "display_data"
    }
   ],
   "source": [
    "rets_df.plot.bar(figsize=(12,8));"
   ]
  },
  {
   "cell_type": "code",
   "execution_count": 98,
   "metadata": {},
   "outputs": [],
   "source": [
    "from pypfopt import EfficientFrontier, objective_functions"
   ]
  },
  {
   "cell_type": "code",
   "execution_count": 99,
   "metadata": {},
   "outputs": [
    {
     "data": {
      "image/png": "[encoded data removed]",
      "text/plain": [
       "<Figure size 640x480 with 2 Axes>"
      ]
     },
     "metadata": {},
     "output_type": "display_data"
    }
   ],
   "source": [
    "S_bl = bl.bl_cov()\n",
    "plotting.plot_covariance(S_bl);"
   ]
  },
  {
   "cell_type": "code",
   "execution_count": 101,
   "metadata": {},
   "outputs": [
    {
     "name": "stderr",
     "output_type": "stream",
     "text": [
      "/Users/afraaa/miniconda3/lib/python3.10/site-packages/pypfopt/efficient_frontier/efficient_frontier.py:262: UserWarning: max_sharpe transforms the optimization problem so additional objectives may not work as expected.\n",
      "  warnings.warn(\n"
     ]
    },
    {
     "data": {
      "text/plain": [
       "OrderedDict([('AMZN', 0.17315),\n",
       "             ('BAC', 0.16245),\n",
       "             ('COST', 0.05682),\n",
       "             ('DIS', 0.06595),\n",
       "             ('DPZ', 0.13843),\n",
       "             ('KO', 0.0),\n",
       "             ('MCD', 0.13033),\n",
       "             ('MSFT', 0.12643),\n",
       "             ('NAT', 0.05762),\n",
       "             ('SBUX', 0.08883)])"
      ]
     },
     "execution_count": 101,
     "metadata": {},
     "output_type": "execute_result"
    }
   ],
   "source": [
    "ef = EfficientFrontier(ret_bl, S_bl)\n",
    "ef.add_objective(objective_functions.L2_reg)\n",
    "ef.max_sharpe()\n",
    "weights = ef.clean_weights()\n",
    "weights"
   ]
  },
  {
   "cell_type": "code",
   "execution_count": 102,
   "metadata": {},
   "outputs": [
    {
     "data": {
      "image/png": "[encoded data removed]",
      "text/plain": [
       "<Figure size 1000x1000 with 1 Axes>"
      ]
     },
     "metadata": {},
     "output_type": "display_data"
    }
   ],
   "source": [
    "pd.Series(weights).plot.pie(figsize=(10,10));"
   ]
  },
  {
   "cell_type": "code",
   "execution_count": 103,
   "metadata": {},
   "outputs": [
    {
     "data": {
      "text/html": [
       "<div>\n",
       "<style scoped>\n",
       "    .dataframe tbody tr th:only-of-type {\n",
       "        vertical-align: middle;\n",
       "    }\n",
       "\n",
       "    .dataframe tbody tr th {\n",
       "        vertical-align: top;\n",
       "    }\n",
       "\n",
       "    .dataframe thead th {\n",
       "        text-align: right;\n",
       "    }\n",
       "</style>\n",
       "<table border=\"1\" class=\"dataframe\">\n",
       "  <thead>\n",
       "    <tr style=\"text-align: right;\">\n",
       "      <th></th>\n",
       "      <th>AMZN</th>\n",
       "      <th>BAC</th>\n",
       "      <th>COST</th>\n",
       "      <th>DIS</th>\n",
       "      <th>DPZ</th>\n",
       "      <th>KO</th>\n",
       "      <th>MCD</th>\n",
       "      <th>MSFT</th>\n",
       "      <th>NAT</th>\n",
       "      <th>SBUX</th>\n",
       "    </tr>\n",
       "  </thead>\n",
       "  <tbody>\n",
       "    <tr>\n",
       "      <th>AMZN</th>\n",
       "      <td>0.142855</td>\n",
       "      <td>0.026562</td>\n",
       "      <td>0.020587</td>\n",
       "      <td>0.023911</td>\n",
       "      <td>0.013650</td>\n",
       "      <td>0.008450</td>\n",
       "      <td>0.011532</td>\n",
       "      <td>0.030873</td>\n",
       "      <td>0.014240</td>\n",
       "      <td>0.026890</td>\n",
       "    </tr>\n",
       "    <tr>\n",
       "      <th>BAC</th>\n",
       "      <td>0.026562</td>\n",
       "      <td>0.122710</td>\n",
       "      <td>0.021802</td>\n",
       "      <td>0.036245</td>\n",
       "      <td>0.015855</td>\n",
       "      <td>0.021989</td>\n",
       "      <td>0.023576</td>\n",
       "      <td>0.027400</td>\n",
       "      <td>0.023468</td>\n",
       "      <td>0.027432</td>\n",
       "    </tr>\n",
       "    <tr>\n",
       "      <th>COST</th>\n",
       "      <td>0.020587</td>\n",
       "      <td>0.021802</td>\n",
       "      <td>0.063057</td>\n",
       "      <td>0.019263</td>\n",
       "      <td>0.008422</td>\n",
       "      <td>0.012864</td>\n",
       "      <td>0.013969</td>\n",
       "      <td>0.022516</td>\n",
       "      <td>0.007721</td>\n",
       "      <td>0.018346</td>\n",
       "    </tr>\n",
       "    <tr>\n",
       "      <th>DIS</th>\n",
       "      <td>0.023911</td>\n",
       "      <td>0.036245</td>\n",
       "      <td>0.019263</td>\n",
       "      <td>0.102031</td>\n",
       "      <td>0.010429</td>\n",
       "      <td>0.026142</td>\n",
       "      <td>0.031247</td>\n",
       "      <td>0.026007</td>\n",
       "      <td>0.013492</td>\n",
       "      <td>0.020406</td>\n",
       "    </tr>\n",
       "    <tr>\n",
       "      <th>DPZ</th>\n",
       "      <td>0.013650</td>\n",
       "      <td>0.015855</td>\n",
       "      <td>0.008422</td>\n",
       "      <td>0.010429</td>\n",
       "      <td>0.040847</td>\n",
       "      <td>0.005222</td>\n",
       "      <td>0.007300</td>\n",
       "      <td>0.010367</td>\n",
       "      <td>0.010163</td>\n",
       "      <td>0.013940</td>\n",
       "    </tr>\n",
       "    <tr>\n",
       "      <th>KO</th>\n",
       "      <td>0.008450</td>\n",
       "      <td>0.021989</td>\n",
       "      <td>0.012864</td>\n",
       "      <td>0.026142</td>\n",
       "      <td>0.005222</td>\n",
       "      <td>0.054778</td>\n",
       "      <td>0.023319</td>\n",
       "      <td>0.016723</td>\n",
       "      <td>0.006097</td>\n",
       "      <td>0.011560</td>\n",
       "    </tr>\n",
       "    <tr>\n",
       "      <th>MCD</th>\n",
       "      <td>0.011532</td>\n",
       "      <td>0.023576</td>\n",
       "      <td>0.013969</td>\n",
       "      <td>0.031247</td>\n",
       "      <td>0.007300</td>\n",
       "      <td>0.023319</td>\n",
       "      <td>0.081482</td>\n",
       "      <td>0.015818</td>\n",
       "      <td>0.007413</td>\n",
       "      <td>0.014939</td>\n",
       "    </tr>\n",
       "    <tr>\n",
       "      <th>MSFT</th>\n",
       "      <td>0.030873</td>\n",
       "      <td>0.027400</td>\n",
       "      <td>0.022516</td>\n",
       "      <td>0.026007</td>\n",
       "      <td>0.010367</td>\n",
       "      <td>0.016723</td>\n",
       "      <td>0.015818</td>\n",
       "      <td>0.069907</td>\n",
       "      <td>0.011636</td>\n",
       "      <td>0.021517</td>\n",
       "    </tr>\n",
       "    <tr>\n",
       "      <th>NAT</th>\n",
       "      <td>0.014240</td>\n",
       "      <td>0.023468</td>\n",
       "      <td>0.007721</td>\n",
       "      <td>0.013492</td>\n",
       "      <td>0.010163</td>\n",
       "      <td>0.006097</td>\n",
       "      <td>0.007413</td>\n",
       "      <td>0.011636</td>\n",
       "      <td>0.095134</td>\n",
       "      <td>0.013489</td>\n",
       "    </tr>\n",
       "    <tr>\n",
       "      <th>SBUX</th>\n",
       "      <td>0.026890</td>\n",
       "      <td>0.027432</td>\n",
       "      <td>0.018346</td>\n",
       "      <td>0.020406</td>\n",
       "      <td>0.013940</td>\n",
       "      <td>0.011560</td>\n",
       "      <td>0.014939</td>\n",
       "      <td>0.021517</td>\n",
       "      <td>0.013489</td>\n",
       "      <td>0.074961</td>\n",
       "    </tr>\n",
       "  </tbody>\n",
       "</table>\n",
       "</div>"
      ],
      "text/plain": [
       "          AMZN       BAC      COST       DIS       DPZ        KO       MCD  \\\n",
       "AMZN  0.142855  0.026562  0.020587  0.023911  0.013650  0.008450  0.011532   \n",
       "BAC   0.026562  0.122710  0.021802  0.036245  0.015855  0.021989  0.023576   \n",
       "COST  0.020587  0.021802  0.063057  0.019263  0.008422  0.012864  0.013969   \n",
       "DIS   0.023911  0.036245  0.019263  0.102031  0.010429  0.026142  0.031247   \n",
       "DPZ   0.013650  0.015855  0.008422  0.010429  0.040847  0.005222  0.007300   \n",
       "KO    0.008450  0.021989  0.012864  0.026142  0.005222  0.054778  0.023319   \n",
       "MCD   0.011532  0.023576  0.013969  0.031247  0.007300  0.023319  0.081482   \n",
       "MSFT  0.030873  0.027400  0.022516  0.026007  0.010367  0.016723  0.015818   \n",
       "NAT   0.014240  0.023468  0.007721  0.013492  0.010163  0.006097  0.007413   \n",
       "SBUX  0.026890  0.027432  0.018346  0.020406  0.013940  0.011560  0.014939   \n",
       "\n",
       "          MSFT       NAT      SBUX  \n",
       "AMZN  0.030873  0.014240  0.026890  \n",
       "BAC   0.027400  0.023468  0.027432  \n",
       "COST  0.022516  0.007721  0.018346  \n",
       "DIS   0.026007  0.013492  0.020406  \n",
       "DPZ   0.010367  0.010163  0.013940  \n",
       "KO    0.016723  0.006097  0.011560  \n",
       "MCD   0.015818  0.007413  0.014939  \n",
       "MSFT  0.069907  0.011636  0.021517  \n",
       "NAT   0.011636  0.095134  0.013489  \n",
       "SBUX  0.021517  0.013489  0.074961  "
      ]
     },
     "execution_count": 103,
     "metadata": {},
     "output_type": "execute_result"
    }
   ],
   "source": [
    "S_bl"
   ]
  },
  {
   "cell_type": "code",
   "execution_count": 104,
   "metadata": {},
   "outputs": [],
   "source": [
    "import RiskParity"
   ]
  },
  {
   "cell_type": "code",
   "execution_count": 105,
   "metadata": {},
   "outputs": [
    {
     "data": {
      "text/plain": [
       "{'MSFT': 0.07489638440449697,\n",
       " 'AMZN': 0.08966184300060215,\n",
       " 'NAT': 0.11927259379596063,\n",
       " 'BAC': 0.09853921392831841,\n",
       " 'DPZ': 0.13673758274818512,\n",
       " 'DIS': 0.12652641548354496,\n",
       " 'KO': 0.10211272916613191,\n",
       " 'MCD': 0.12040634129371645,\n",
       " 'COST': 0.08334261794019605,\n",
       " 'SBUX': 0.11153741479929465}"
      ]
     },
     "execution_count": 105,
     "metadata": {},
     "output_type": "execute_result"
    }
   ],
   "source": [
    "RiskParity.risk_parity(S_bl,tickers)"
   ]
  },
  {
   "cell_type": "code",
   "execution_count": 106,
   "metadata": {},
   "outputs": [
    {
     "data": {
      "image/png": "[encoded data removed]",
      "text/plain": [
       "<Figure size 1000x1000 with 1 Axes>"
      ]
     },
     "metadata": {},
     "output_type": "display_data"
    }
   ],
   "source": [
    "pd.Series(RiskParity.risk_parity(S_bl,tickers)).plot.pie(figsize=(10,10));"
   ]
  },
  {
   "cell_type": "code",
   "execution_count": 107,
   "metadata": {},
   "outputs": [],
   "source": [
    "initial_weights = np.array([1 / n_assets] * n_assets)"
   ]
  },
  {
   "cell_type": "code",
   "execution_count": 108,
   "metadata": {},
   "outputs": [],
   "source": [
    "n_assets = 10"
   ]
  },
  {
   "cell_type": "code",
   "execution_count": 109,
   "metadata": {},
   "outputs": [
    {
     "data": {
      "text/plain": [
       "array([0.1, 0.1, 0.1, 0.1, 0.1, 0.1, 0.1, 0.1, 0.1, 0.1])"
      ]
     },
     "execution_count": 109,
     "metadata": {},
     "output_type": "execute_result"
    }
   ],
   "source": [
    "initial_weights"
   ]
  },
  {
   "cell_type": "code",
   "execution_count": 110,
   "metadata": {},
   "outputs": [
    {
     "data": {
      "text/plain": [
       "[0.1, 0.1, 0.1, 0.1, 0.1, 0.1, 0.1, 0.1, 0.1, 0.1]"
      ]
     },
     "execution_count": 110,
     "metadata": {},
     "output_type": "execute_result"
    }
   ],
   "source": [
    "[1 / n_assets] * n_assets"
   ]
  },
  {
   "cell_type": "code",
   "execution_count": 111,
   "metadata": {},
   "outputs": [
    {
     "data": {
      "text/plain": [
       "array([0.03779614, 0.03503006, 0.02511107, 0.03194222, 0.02021066,\n",
       "       0.02340464, 0.02854513, 0.02643994, 0.03084374, 0.02737903])"
      ]
     },
     "execution_count": 111,
     "metadata": {},
     "output_type": "execute_result"
    }
   ],
   "source": [
    "np.sqrt(np.diag(covariance_matrix)) * initial_weights"
   ]
  },
  {
   "cell_type": "code",
   "execution_count": 112,
   "metadata": {},
   "outputs": [],
   "source": [
    "covariance_matrix = S_bl"
   ]
  },
  {
   "cell_type": "code",
   "execution_count": 113,
   "metadata": {},
   "outputs": [
    {
     "data": {
      "text/html": [
       "<div>\n",
       "<style scoped>\n",
       "    .dataframe tbody tr th:only-of-type {\n",
       "        vertical-align: middle;\n",
       "    }\n",
       "\n",
       "    .dataframe tbody tr th {\n",
       "        vertical-align: top;\n",
       "    }\n",
       "\n",
       "    .dataframe thead th {\n",
       "        text-align: right;\n",
       "    }\n",
       "</style>\n",
       "<table border=\"1\" class=\"dataframe\">\n",
       "  <thead>\n",
       "    <tr style=\"text-align: right;\">\n",
       "      <th></th>\n",
       "      <th>AMZN</th>\n",
       "      <th>BAC</th>\n",
       "      <th>COST</th>\n",
       "      <th>DIS</th>\n",
       "      <th>DPZ</th>\n",
       "      <th>KO</th>\n",
       "      <th>MCD</th>\n",
       "      <th>MSFT</th>\n",
       "      <th>NAT</th>\n",
       "      <th>SBUX</th>\n",
       "    </tr>\n",
       "  </thead>\n",
       "  <tbody>\n",
       "    <tr>\n",
       "      <th>AMZN</th>\n",
       "      <td>0.142855</td>\n",
       "      <td>0.026562</td>\n",
       "      <td>0.020587</td>\n",
       "      <td>0.023911</td>\n",
       "      <td>0.013650</td>\n",
       "      <td>0.008450</td>\n",
       "      <td>0.011532</td>\n",
       "      <td>0.030873</td>\n",
       "      <td>0.014240</td>\n",
       "      <td>0.026890</td>\n",
       "    </tr>\n",
       "    <tr>\n",
       "      <th>BAC</th>\n",
       "      <td>0.026562</td>\n",
       "      <td>0.122710</td>\n",
       "      <td>0.021802</td>\n",
       "      <td>0.036245</td>\n",
       "      <td>0.015855</td>\n",
       "      <td>0.021989</td>\n",
       "      <td>0.023576</td>\n",
       "      <td>0.027400</td>\n",
       "      <td>0.023468</td>\n",
       "      <td>0.027432</td>\n",
       "    </tr>\n",
       "    <tr>\n",
       "      <th>COST</th>\n",
       "      <td>0.020587</td>\n",
       "      <td>0.021802</td>\n",
       "      <td>0.063057</td>\n",
       "      <td>0.019263</td>\n",
       "      <td>0.008422</td>\n",
       "      <td>0.012864</td>\n",
       "      <td>0.013969</td>\n",
       "      <td>0.022516</td>\n",
       "      <td>0.007721</td>\n",
       "      <td>0.018346</td>\n",
       "    </tr>\n",
       "    <tr>\n",
       "      <th>DIS</th>\n",
       "      <td>0.023911</td>\n",
       "      <td>0.036245</td>\n",
       "      <td>0.019263</td>\n",
       "      <td>0.102031</td>\n",
       "      <td>0.010429</td>\n",
       "      <td>0.026142</td>\n",
       "      <td>0.031247</td>\n",
       "      <td>0.026007</td>\n",
       "      <td>0.013492</td>\n",
       "      <td>0.020406</td>\n",
       "    </tr>\n",
       "    <tr>\n",
       "      <th>DPZ</th>\n",
       "      <td>0.013650</td>\n",
       "      <td>0.015855</td>\n",
       "      <td>0.008422</td>\n",
       "      <td>0.010429</td>\n",
       "      <td>0.040847</td>\n",
       "      <td>0.005222</td>\n",
       "      <td>0.007300</td>\n",
       "      <td>0.010367</td>\n",
       "      <td>0.010163</td>\n",
       "      <td>0.013940</td>\n",
       "    </tr>\n",
       "    <tr>\n",
       "      <th>KO</th>\n",
       "      <td>0.008450</td>\n",
       "      <td>0.021989</td>\n",
       "      <td>0.012864</td>\n",
       "      <td>0.026142</td>\n",
       "      <td>0.005222</td>\n",
       "      <td>0.054778</td>\n",
       "      <td>0.023319</td>\n",
       "      <td>0.016723</td>\n",
       "      <td>0.006097</td>\n",
       "      <td>0.011560</td>\n",
       "    </tr>\n",
       "    <tr>\n",
       "      <th>MCD</th>\n",
       "      <td>0.011532</td>\n",
       "      <td>0.023576</td>\n",
       "      <td>0.013969</td>\n",
       "      <td>0.031247</td>\n",
       "      <td>0.007300</td>\n",
       "      <td>0.023319</td>\n",
       "      <td>0.081482</td>\n",
       "      <td>0.015818</td>\n",
       "      <td>0.007413</td>\n",
       "      <td>0.014939</td>\n",
       "    </tr>\n",
       "    <tr>\n",
       "      <th>MSFT</th>\n",
       "      <td>0.030873</td>\n",
       "      <td>0.027400</td>\n",
       "      <td>0.022516</td>\n",
       "      <td>0.026007</td>\n",
       "      <td>0.010367</td>\n",
       "      <td>0.016723</td>\n",
       "      <td>0.015818</td>\n",
       "      <td>0.069907</td>\n",
       "      <td>0.011636</td>\n",
       "      <td>0.021517</td>\n",
       "    </tr>\n",
       "    <tr>\n",
       "      <th>NAT</th>\n",
       "      <td>0.014240</td>\n",
       "      <td>0.023468</td>\n",
       "      <td>0.007721</td>\n",
       "      <td>0.013492</td>\n",
       "      <td>0.010163</td>\n",
       "      <td>0.006097</td>\n",
       "      <td>0.007413</td>\n",
       "      <td>0.011636</td>\n",
       "      <td>0.095134</td>\n",
       "      <td>0.013489</td>\n",
       "    </tr>\n",
       "    <tr>\n",
       "      <th>SBUX</th>\n",
       "      <td>0.026890</td>\n",
       "      <td>0.027432</td>\n",
       "      <td>0.018346</td>\n",
       "      <td>0.020406</td>\n",
       "      <td>0.013940</td>\n",
       "      <td>0.011560</td>\n",
       "      <td>0.014939</td>\n",
       "      <td>0.021517</td>\n",
       "      <td>0.013489</td>\n",
       "      <td>0.074961</td>\n",
       "    </tr>\n",
       "  </tbody>\n",
       "</table>\n",
       "</div>"
      ],
      "text/plain": [
       "          AMZN       BAC      COST       DIS       DPZ        KO       MCD  \\\n",
       "AMZN  0.142855  0.026562  0.020587  0.023911  0.013650  0.008450  0.011532   \n",
       "BAC   0.026562  0.122710  0.021802  0.036245  0.015855  0.021989  0.023576   \n",
       "COST  0.020587  0.021802  0.063057  0.019263  0.008422  0.012864  0.013969   \n",
       "DIS   0.023911  0.036245  0.019263  0.102031  0.010429  0.026142  0.031247   \n",
       "DPZ   0.013650  0.015855  0.008422  0.010429  0.040847  0.005222  0.007300   \n",
       "KO    0.008450  0.021989  0.012864  0.026142  0.005222  0.054778  0.023319   \n",
       "MCD   0.011532  0.023576  0.013969  0.031247  0.007300  0.023319  0.081482   \n",
       "MSFT  0.030873  0.027400  0.022516  0.026007  0.010367  0.016723  0.015818   \n",
       "NAT   0.014240  0.023468  0.007721  0.013492  0.010163  0.006097  0.007413   \n",
       "SBUX  0.026890  0.027432  0.018346  0.020406  0.013940  0.011560  0.014939   \n",
       "\n",
       "          MSFT       NAT      SBUX  \n",
       "AMZN  0.030873  0.014240  0.026890  \n",
       "BAC   0.027400  0.023468  0.027432  \n",
       "COST  0.022516  0.007721  0.018346  \n",
       "DIS   0.026007  0.013492  0.020406  \n",
       "DPZ   0.010367  0.010163  0.013940  \n",
       "KO    0.016723  0.006097  0.011560  \n",
       "MCD   0.015818  0.007413  0.014939  \n",
       "MSFT  0.069907  0.011636  0.021517  \n",
       "NAT   0.011636  0.095134  0.013489  \n",
       "SBUX  0.021517  0.013489  0.074961  "
      ]
     },
     "execution_count": 113,
     "metadata": {},
     "output_type": "execute_result"
    }
   ],
   "source": [
    "S_bl"
   ]
  },
  {
   "cell_type": "code",
   "execution_count": 114,
   "metadata": {},
   "outputs": [],
   "source": [
    "MRC = covariance_matrix @ initial_weights.T"
   ]
  },
  {
   "cell_type": "code",
   "execution_count": 115,
   "metadata": {},
   "outputs": [
    {
     "data": {
      "text/plain": [
       "AMZN    0.031955\n",
       "BAC     0.034704\n",
       "COST    0.020855\n",
       "DIS     0.030917\n",
       "DPZ     0.013619\n",
       "KO      0.018715\n",
       "MCD     0.023060\n",
       "MSFT    0.025276\n",
       "NAT     0.020285\n",
       "SBUX    0.024348\n",
       "dtype: float64"
      ]
     },
     "execution_count": 115,
     "metadata": {},
     "output_type": "execute_result"
    }
   ],
   "source": [
    "MRC"
   ]
  },
  {
   "cell_type": "code",
   "execution_count": 116,
   "metadata": {},
   "outputs": [
    {
     "data": {
      "text/plain": [
       "AMZN    0.003195\n",
       "BAC     0.003470\n",
       "COST    0.002085\n",
       "DIS     0.003092\n",
       "DPZ     0.001362\n",
       "KO      0.001871\n",
       "MCD     0.002306\n",
       "MSFT    0.002528\n",
       "NAT     0.002029\n",
       "SBUX    0.002435\n",
       "dtype: float64"
      ]
     },
     "execution_count": 116,
     "metadata": {},
     "output_type": "execute_result"
    }
   ],
   "source": [
    "np.multiply(MRC,initial_weights.T)"
   ]
  },
  {
   "cell_type": "code",
   "execution_count": null,
   "metadata": {},
   "outputs": [],
   "source": []
  }
 ],
 "metadata": {
  "kernelspec": {
   "display_name": "base",
   "language": "python",
   "name": "python3"
  },
  "language_info": {
   "codemirror_mode": {
    "name": "ipython",
    "version": 3
   },
   "file_extension": ".py",
   "mimetype": "text/x-python",
   "name": "python",
   "nbconvert_exporter": "python",
   "pygments_lexer": "ipython3",
   "version": "3.10.9"
  },
  "orig_nbformat": 4,
  "vscode": {
   "interpreter": {
    "hash": "cd32e610c87aa5d7edb282bc64940a9f6dff79c72cf77bf2690530f3c74efc62"
   }
  }
 },
 "nbformat": 4,
 "nbformat_minor": 2
}
