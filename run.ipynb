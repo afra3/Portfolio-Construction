{
 "cells": [
  {
   "attachments": {},
   "cell_type": "markdown",
   "metadata": {},
   "source": [
    "### 数据处理"
   ]
  },
  {
   "cell_type": "code",
   "execution_count": 3,
   "metadata": {},
   "outputs": [],
   "source": [
    "import tushare as ts\n",
    "import pandas as pd\n",
    "# 设置 Tushare 的 API Token\n",
    "token = \"c576df5b626df4f37c30bae84520d70c7945a394d7ee274ef2685444\"\n",
    "ts.set_token(token)"
   ]
  },
  {
   "cell_type": "code",
   "execution_count": 4,
   "metadata": {},
   "outputs": [],
   "source": [
    "# 定义股票代码列表\n",
    "tickers = ['000009.SZ', '000012.SZ', '000021.SZ','000027.SZ','000031.SZ']"
   ]
  },
  {
   "cell_type": "code",
   "execution_count": 5,
   "metadata": {},
   "outputs": [],
   "source": [
    "# 生成日期序列\n",
    "start_date = '2014-12-31'\n",
    "end_date = '2022-12-30'\n",
    "date_index = pd.date_range(start=start_date, end=end_date, freq='B')\n",
    "prices = pd.DataFrame(index=date_index)\n",
    "market_prices = pd.DataFrame(index=date_index)"
   ]
  },
  {
   "cell_type": "code",
   "execution_count": 6,
   "metadata": {},
   "outputs": [],
   "source": [
    "for ticker in tickers:\n",
    "    df = ts.pro_bar(ts_code=ticker, adj='qfq', start_date=start_date, end_date=end_date)\n",
    "    df = df.set_index(pd.to_datetime(df['trade_date']))\n",
    "    prices = prices.join(df.close).rename(columns = {'close':ticker})"
   ]
  },
  {
   "cell_type": "code",
   "execution_count": 7,
   "metadata": {},
   "outputs": [],
   "source": [
    "prices = prices.dropna()"
   ]
  },
  {
   "cell_type": "code",
   "execution_count": 8,
   "metadata": {},
   "outputs": [
    {
     "name": "stdout",
     "output_type": "stream",
     "text": [
      "Excel file format cannot be determined, you must specify an engine manually.\n"
     ]
    }
   ],
   "source": [
    "import tushare as ts\n",
    "result = ts.get_zz500s()\n",
    "result"
   ]
  },
  {
   "cell_type": "code",
   "execution_count": 9,
   "metadata": {},
   "outputs": [
    {
     "name": "stdout",
     "output_type": "stream",
     "text": [
      "login success!\n"
     ]
    }
   ],
   "source": [
    "import baostock as bs\n",
    "import pandas as pd\n",
    "\n",
    "# 登陆系统\n",
    "lg = bs.login()\n",
    "rs = bs.query_history_k_data_plus(\"sz.000905\",\n",
    "    \"date,code,open,high,low,close,preclose,volume,amount,pctChg\",\n",
    "    start_date='2014-12-31', end_date='2022-12-30', frequency=\"d\")\n",
    "data_list = []\n",
    "while (rs.error_code == '0') & rs.next():\n",
    "    # 获取一条记录，将记录合并在一起\n",
    "    data_list.append(rs.get_row_data())\n",
    "result = pd.DataFrame(data_list, columns=rs.fields)"
   ]
  },
  {
   "cell_type": "code",
   "execution_count": 10,
   "metadata": {},
   "outputs": [],
   "source": [
    "result = result.set_index(pd.to_datetime(result['date']))\n",
    "market_prices = market_prices.join(result.close).rename(columns = {'close':'csi500'})"
   ]
  },
  {
   "cell_type": "code",
   "execution_count": 11,
   "metadata": {},
   "outputs": [],
   "source": [
    "market_prices = market_prices.dropna()"
   ]
  },
  {
   "cell_type": "code",
   "execution_count": 12,
   "metadata": {},
   "outputs": [],
   "source": [
    "pro = ts.pro_api()"
   ]
  },
  {
   "cell_type": "code",
   "execution_count": 13,
   "metadata": {},
   "outputs": [
    {
     "ename": "Exception",
     "evalue": "抱歉，您每天最多访问该接口50次，权限的具体详情访问：https://tushare.pro/document/1?doc_id=108。",
     "output_type": "error",
     "traceback": [
      "\u001b[0;31m---------------------------------------------------------------------------\u001b[0m",
      "\u001b[0;31mException\u001b[0m                                 Traceback (most recent call last)",
      "Cell \u001b[0;32mIn[13], line 3\u001b[0m\n\u001b[1;32m      1\u001b[0m mcaps \u001b[39m=\u001b[39m {}\n\u001b[1;32m      2\u001b[0m \u001b[39mfor\u001b[39;00m ticker \u001b[39min\u001b[39;00m tickers:\n\u001b[0;32m----> 3\u001b[0m     df \u001b[39m=\u001b[39m pro\u001b[39m.\u001b[39;49mbak_daily(ts_code\u001b[39m=\u001b[39;49mticker,start_date\u001b[39m=\u001b[39;49mstart_date, end_date\u001b[39m=\u001b[39;49mend_date,fields\u001b[39m=\u001b[39;49m\u001b[39m'\u001b[39;49m\u001b[39mtrade_date,ts_code,name,total_mv\u001b[39;49m\u001b[39m'\u001b[39;49m)\n\u001b[1;32m      4\u001b[0m     mcaps[ticker] \u001b[39m=\u001b[39m df\u001b[39m.\u001b[39miloc[\u001b[39m-\u001b[39m\u001b[39m1\u001b[39m,\u001b[39m3\u001b[39m]\n",
      "File \u001b[0;32m~/miniconda3/lib/python3.10/site-packages/tushare/pro/client.py:45\u001b[0m, in \u001b[0;36mDataApi.query\u001b[0;34m(self, api_name, fields, **kwargs)\u001b[0m\n\u001b[1;32m     43\u001b[0m result \u001b[39m=\u001b[39m json\u001b[39m.\u001b[39mloads(res\u001b[39m.\u001b[39mtext)\n\u001b[1;32m     44\u001b[0m \u001b[39mif\u001b[39;00m result[\u001b[39m'\u001b[39m\u001b[39mcode\u001b[39m\u001b[39m'\u001b[39m] \u001b[39m!=\u001b[39m \u001b[39m0\u001b[39m:\n\u001b[0;32m---> 45\u001b[0m     \u001b[39mraise\u001b[39;00m \u001b[39mException\u001b[39;00m(result[\u001b[39m'\u001b[39m\u001b[39mmsg\u001b[39m\u001b[39m'\u001b[39m])\n\u001b[1;32m     46\u001b[0m data \u001b[39m=\u001b[39m result[\u001b[39m'\u001b[39m\u001b[39mdata\u001b[39m\u001b[39m'\u001b[39m]\n\u001b[1;32m     47\u001b[0m columns \u001b[39m=\u001b[39m data[\u001b[39m'\u001b[39m\u001b[39mfields\u001b[39m\u001b[39m'\u001b[39m]\n",
      "\u001b[0;31mException\u001b[0m: 抱歉，您每天最多访问该接口50次，权限的具体详情访问：https://tushare.pro/document/1?doc_id=108。"
     ]
    }
   ],
   "source": [
    "mcaps = {}\n",
    "for ticker in tickers:\n",
    "    df = pro.bak_daily(ts_code=ticker,start_date=start_date, end_date=end_date,fields='trade_date,ts_code,name,total_mv')\n",
    "    mcaps[ticker] = df.iloc[-1,3]"
   ]
  },
  {
   "cell_type": "code",
   "execution_count": 14,
   "metadata": {},
   "outputs": [
    {
     "data": {
      "text/plain": [
       "{}"
      ]
     },
     "execution_count": 14,
     "metadata": {},
     "output_type": "execute_result"
    }
   ],
   "source": [
    "mcaps"
   ]
  },
  {
   "cell_type": "code",
   "execution_count": 15,
   "metadata": {},
   "outputs": [
    {
     "data": {
      "text/html": [
       "<div>\n",
       "<style scoped>\n",
       "    .dataframe tbody tr th:only-of-type {\n",
       "        vertical-align: middle;\n",
       "    }\n",
       "\n",
       "    .dataframe tbody tr th {\n",
       "        vertical-align: top;\n",
       "    }\n",
       "\n",
       "    .dataframe thead th {\n",
       "        text-align: right;\n",
       "    }\n",
       "</style>\n",
       "<table border=\"1\" class=\"dataframe\">\n",
       "  <thead>\n",
       "    <tr style=\"text-align: right;\">\n",
       "      <th></th>\n",
       "      <th>000009.SZ</th>\n",
       "      <th>000012.SZ</th>\n",
       "      <th>000021.SZ</th>\n",
       "      <th>000027.SZ</th>\n",
       "      <th>000031.SZ</th>\n",
       "    </tr>\n",
       "  </thead>\n",
       "  <tbody>\n",
       "    <tr>\n",
       "      <th>2015-01-07</th>\n",
       "      <td>8.0589</td>\n",
       "      <td>5.3677</td>\n",
       "      <td>7.3629</td>\n",
       "      <td>5.6789</td>\n",
       "      <td>8.6110</td>\n",
       "    </tr>\n",
       "    <tr>\n",
       "      <th>2015-01-08</th>\n",
       "      <td>8.0710</td>\n",
       "      <td>5.4392</td>\n",
       "      <td>7.4854</td>\n",
       "      <td>5.4491</td>\n",
       "      <td>8.6673</td>\n",
       "    </tr>\n",
       "    <tr>\n",
       "      <th>2015-01-09</th>\n",
       "      <td>7.8473</td>\n",
       "      <td>5.2962</td>\n",
       "      <td>7.3157</td>\n",
       "      <td>5.2575</td>\n",
       "      <td>8.3580</td>\n",
       "    </tr>\n",
       "    <tr>\n",
       "      <th>2015-01-12</th>\n",
       "      <td>7.7385</td>\n",
       "      <td>5.0699</td>\n",
       "      <td>7.7305</td>\n",
       "      <td>5.0756</td>\n",
       "      <td>8.2456</td>\n",
       "    </tr>\n",
       "    <tr>\n",
       "      <th>2015-01-13</th>\n",
       "      <td>7.9924</td>\n",
       "      <td>5.0937</td>\n",
       "      <td>8.0794</td>\n",
       "      <td>5.0708</td>\n",
       "      <td>8.3487</td>\n",
       "    </tr>\n",
       "    <tr>\n",
       "      <th>...</th>\n",
       "      <td>...</td>\n",
       "      <td>...</td>\n",
       "      <td>...</td>\n",
       "      <td>...</td>\n",
       "      <td>...</td>\n",
       "    </tr>\n",
       "    <tr>\n",
       "      <th>2022-12-26</th>\n",
       "      <td>12.6200</td>\n",
       "      <td>6.8100</td>\n",
       "      <td>10.8000</td>\n",
       "      <td>5.8600</td>\n",
       "      <td>3.7800</td>\n",
       "    </tr>\n",
       "    <tr>\n",
       "      <th>2022-12-27</th>\n",
       "      <td>12.2600</td>\n",
       "      <td>6.8100</td>\n",
       "      <td>10.8700</td>\n",
       "      <td>6.0200</td>\n",
       "      <td>3.8100</td>\n",
       "    </tr>\n",
       "    <tr>\n",
       "      <th>2022-12-28</th>\n",
       "      <td>12.0500</td>\n",
       "      <td>6.7600</td>\n",
       "      <td>10.7000</td>\n",
       "      <td>6.0900</td>\n",
       "      <td>3.8800</td>\n",
       "    </tr>\n",
       "    <tr>\n",
       "      <th>2022-12-29</th>\n",
       "      <td>11.9800</td>\n",
       "      <td>6.6600</td>\n",
       "      <td>10.6500</td>\n",
       "      <td>6.1100</td>\n",
       "      <td>3.7500</td>\n",
       "    </tr>\n",
       "    <tr>\n",
       "      <th>2022-12-30</th>\n",
       "      <td>12.0900</td>\n",
       "      <td>6.7100</td>\n",
       "      <td>10.6900</td>\n",
       "      <td>6.3600</td>\n",
       "      <td>3.7600</td>\n",
       "    </tr>\n",
       "  </tbody>\n",
       "</table>\n",
       "<p>1691 rows × 5 columns</p>\n",
       "</div>"
      ],
      "text/plain": [
       "            000009.SZ  000012.SZ  000021.SZ  000027.SZ  000031.SZ\n",
       "2015-01-07     8.0589     5.3677     7.3629     5.6789     8.6110\n",
       "2015-01-08     8.0710     5.4392     7.4854     5.4491     8.6673\n",
       "2015-01-09     7.8473     5.2962     7.3157     5.2575     8.3580\n",
       "2015-01-12     7.7385     5.0699     7.7305     5.0756     8.2456\n",
       "2015-01-13     7.9924     5.0937     8.0794     5.0708     8.3487\n",
       "...               ...        ...        ...        ...        ...\n",
       "2022-12-26    12.6200     6.8100    10.8000     5.8600     3.7800\n",
       "2022-12-27    12.2600     6.8100    10.8700     6.0200     3.8100\n",
       "2022-12-28    12.0500     6.7600    10.7000     6.0900     3.8800\n",
       "2022-12-29    11.9800     6.6600    10.6500     6.1100     3.7500\n",
       "2022-12-30    12.0900     6.7100    10.6900     6.3600     3.7600\n",
       "\n",
       "[1691 rows x 5 columns]"
      ]
     },
     "execution_count": 15,
     "metadata": {},
     "output_type": "execute_result"
    }
   ],
   "source": [
    "prices"
   ]
  },
  {
   "cell_type": "code",
   "execution_count": 16,
   "metadata": {},
   "outputs": [
    {
     "data": {
      "text/html": [
       "<div>\n",
       "<style scoped>\n",
       "    .dataframe tbody tr th:only-of-type {\n",
       "        vertical-align: middle;\n",
       "    }\n",
       "\n",
       "    .dataframe tbody tr th {\n",
       "        vertical-align: top;\n",
       "    }\n",
       "\n",
       "    .dataframe thead th {\n",
       "        text-align: right;\n",
       "    }\n",
       "</style>\n",
       "<table border=\"1\" class=\"dataframe\">\n",
       "  <thead>\n",
       "    <tr style=\"text-align: right;\">\n",
       "      <th></th>\n",
       "      <th>csi500</th>\n",
       "    </tr>\n",
       "  </thead>\n",
       "  <tbody>\n",
       "    <tr>\n",
       "      <th>2014-12-31</th>\n",
       "      <td>15.5500</td>\n",
       "    </tr>\n",
       "    <tr>\n",
       "      <th>2015-01-05</th>\n",
       "      <td>15.7100</td>\n",
       "    </tr>\n",
       "    <tr>\n",
       "      <th>2015-01-06</th>\n",
       "      <td>16.2400</td>\n",
       "    </tr>\n",
       "    <tr>\n",
       "      <th>2015-01-07</th>\n",
       "      <td>16.0200</td>\n",
       "    </tr>\n",
       "    <tr>\n",
       "      <th>2015-01-08</th>\n",
       "      <td>15.9300</td>\n",
       "    </tr>\n",
       "    <tr>\n",
       "      <th>...</th>\n",
       "      <td>...</td>\n",
       "    </tr>\n",
       "    <tr>\n",
       "      <th>2022-12-26</th>\n",
       "      <td>7.2900</td>\n",
       "    </tr>\n",
       "    <tr>\n",
       "      <th>2022-12-27</th>\n",
       "      <td>7.4000</td>\n",
       "    </tr>\n",
       "    <tr>\n",
       "      <th>2022-12-28</th>\n",
       "      <td>7.2700</td>\n",
       "    </tr>\n",
       "    <tr>\n",
       "      <th>2022-12-29</th>\n",
       "      <td>7.1200</td>\n",
       "    </tr>\n",
       "    <tr>\n",
       "      <th>2022-12-30</th>\n",
       "      <td>7.2200</td>\n",
       "    </tr>\n",
       "  </tbody>\n",
       "</table>\n",
       "<p>1948 rows × 1 columns</p>\n",
       "</div>"
      ],
      "text/plain": [
       "             csi500\n",
       "2014-12-31  15.5500\n",
       "2015-01-05  15.7100\n",
       "2015-01-06  16.2400\n",
       "2015-01-07  16.0200\n",
       "2015-01-08  15.9300\n",
       "...             ...\n",
       "2022-12-26   7.2900\n",
       "2022-12-27   7.4000\n",
       "2022-12-28   7.2700\n",
       "2022-12-29   7.1200\n",
       "2022-12-30   7.2200\n",
       "\n",
       "[1948 rows x 1 columns]"
      ]
     },
     "execution_count": 16,
     "metadata": {},
     "output_type": "execute_result"
    }
   ],
   "source": [
    "market_prices"
   ]
  },
  {
   "attachments": {},
   "cell_type": "markdown",
   "metadata": {},
   "source": [
    "### BL模型"
   ]
  },
  {
   "cell_type": "code",
   "execution_count": 17,
   "metadata": {},
   "outputs": [],
   "source": [
    "import numpy as np\n",
    "import pandas as pd\n",
    "import matplotlib.pyplot as plt\n",
    "import pypfopt\n",
    "from pypfopt import black_litterman, risk_models\n",
    "from pypfopt import BlackLittermanModel, plotting"
   ]
  },
  {
   "cell_type": "code",
   "execution_count": 18,
   "metadata": {},
   "outputs": [],
   "source": [
    "mcaps = {'000009.SZ': 167.65,\n",
    " '000012.SZ': 189.69,\n",
    " '000021.SZ': 123.0,\n",
    " '000027.SZ': 268.4,\n",
    " '000031.SZ': 136.94}"
   ]
  },
  {
   "cell_type": "code",
   "execution_count": 19,
   "metadata": {},
   "outputs": [
    {
     "data": {
      "text/html": [
       "<div>\n",
       "<style scoped>\n",
       "    .dataframe tbody tr th:only-of-type {\n",
       "        vertical-align: middle;\n",
       "    }\n",
       "\n",
       "    .dataframe tbody tr th {\n",
       "        vertical-align: top;\n",
       "    }\n",
       "\n",
       "    .dataframe thead th {\n",
       "        text-align: right;\n",
       "    }\n",
       "</style>\n",
       "<table border=\"1\" class=\"dataframe\">\n",
       "  <thead>\n",
       "    <tr style=\"text-align: right;\">\n",
       "      <th></th>\n",
       "      <th>000009.SZ</th>\n",
       "      <th>000012.SZ</th>\n",
       "      <th>000021.SZ</th>\n",
       "      <th>000027.SZ</th>\n",
       "      <th>000031.SZ</th>\n",
       "    </tr>\n",
       "  </thead>\n",
       "  <tbody>\n",
       "    <tr>\n",
       "      <th>2015-01-07</th>\n",
       "      <td>8.0589</td>\n",
       "      <td>5.3677</td>\n",
       "      <td>7.3629</td>\n",
       "      <td>5.6789</td>\n",
       "      <td>8.6110</td>\n",
       "    </tr>\n",
       "    <tr>\n",
       "      <th>2015-01-08</th>\n",
       "      <td>8.0710</td>\n",
       "      <td>5.4392</td>\n",
       "      <td>7.4854</td>\n",
       "      <td>5.4491</td>\n",
       "      <td>8.6673</td>\n",
       "    </tr>\n",
       "    <tr>\n",
       "      <th>2015-01-09</th>\n",
       "      <td>7.8473</td>\n",
       "      <td>5.2962</td>\n",
       "      <td>7.3157</td>\n",
       "      <td>5.2575</td>\n",
       "      <td>8.3580</td>\n",
       "    </tr>\n",
       "    <tr>\n",
       "      <th>2015-01-12</th>\n",
       "      <td>7.7385</td>\n",
       "      <td>5.0699</td>\n",
       "      <td>7.7305</td>\n",
       "      <td>5.0756</td>\n",
       "      <td>8.2456</td>\n",
       "    </tr>\n",
       "    <tr>\n",
       "      <th>2015-01-13</th>\n",
       "      <td>7.9924</td>\n",
       "      <td>5.0937</td>\n",
       "      <td>8.0794</td>\n",
       "      <td>5.0708</td>\n",
       "      <td>8.3487</td>\n",
       "    </tr>\n",
       "    <tr>\n",
       "      <th>...</th>\n",
       "      <td>...</td>\n",
       "      <td>...</td>\n",
       "      <td>...</td>\n",
       "      <td>...</td>\n",
       "      <td>...</td>\n",
       "    </tr>\n",
       "    <tr>\n",
       "      <th>2022-12-26</th>\n",
       "      <td>12.6200</td>\n",
       "      <td>6.8100</td>\n",
       "      <td>10.8000</td>\n",
       "      <td>5.8600</td>\n",
       "      <td>3.7800</td>\n",
       "    </tr>\n",
       "    <tr>\n",
       "      <th>2022-12-27</th>\n",
       "      <td>12.2600</td>\n",
       "      <td>6.8100</td>\n",
       "      <td>10.8700</td>\n",
       "      <td>6.0200</td>\n",
       "      <td>3.8100</td>\n",
       "    </tr>\n",
       "    <tr>\n",
       "      <th>2022-12-28</th>\n",
       "      <td>12.0500</td>\n",
       "      <td>6.7600</td>\n",
       "      <td>10.7000</td>\n",
       "      <td>6.0900</td>\n",
       "      <td>3.8800</td>\n",
       "    </tr>\n",
       "    <tr>\n",
       "      <th>2022-12-29</th>\n",
       "      <td>11.9800</td>\n",
       "      <td>6.6600</td>\n",
       "      <td>10.6500</td>\n",
       "      <td>6.1100</td>\n",
       "      <td>3.7500</td>\n",
       "    </tr>\n",
       "    <tr>\n",
       "      <th>2022-12-30</th>\n",
       "      <td>12.0900</td>\n",
       "      <td>6.7100</td>\n",
       "      <td>10.6900</td>\n",
       "      <td>6.3600</td>\n",
       "      <td>3.7600</td>\n",
       "    </tr>\n",
       "  </tbody>\n",
       "</table>\n",
       "<p>1691 rows × 5 columns</p>\n",
       "</div>"
      ],
      "text/plain": [
       "            000009.SZ  000012.SZ  000021.SZ  000027.SZ  000031.SZ\n",
       "2015-01-07     8.0589     5.3677     7.3629     5.6789     8.6110\n",
       "2015-01-08     8.0710     5.4392     7.4854     5.4491     8.6673\n",
       "2015-01-09     7.8473     5.2962     7.3157     5.2575     8.3580\n",
       "2015-01-12     7.7385     5.0699     7.7305     5.0756     8.2456\n",
       "2015-01-13     7.9924     5.0937     8.0794     5.0708     8.3487\n",
       "...               ...        ...        ...        ...        ...\n",
       "2022-12-26    12.6200     6.8100    10.8000     5.8600     3.7800\n",
       "2022-12-27    12.2600     6.8100    10.8700     6.0200     3.8100\n",
       "2022-12-28    12.0500     6.7600    10.7000     6.0900     3.8800\n",
       "2022-12-29    11.9800     6.6600    10.6500     6.1100     3.7500\n",
       "2022-12-30    12.0900     6.7100    10.6900     6.3600     3.7600\n",
       "\n",
       "[1691 rows x 5 columns]"
      ]
     },
     "execution_count": 19,
     "metadata": {},
     "output_type": "execute_result"
    }
   ],
   "source": [
    "prices"
   ]
  },
  {
   "cell_type": "code",
   "execution_count": 20,
   "metadata": {},
   "outputs": [],
   "source": [
    "market_prices = market_prices['csi500'].astype(float)"
   ]
  },
  {
   "cell_type": "code",
   "execution_count": 21,
   "metadata": {},
   "outputs": [
    {
     "data": {
      "text/plain": [
       "2014-12-31    15.55\n",
       "2015-01-05    15.71\n",
       "2015-01-06    16.24\n",
       "2015-01-07    16.02\n",
       "2015-01-08    15.93\n",
       "              ...  \n",
       "2022-12-26     7.29\n",
       "2022-12-27     7.40\n",
       "2022-12-28     7.27\n",
       "2022-12-29     7.12\n",
       "2022-12-30     7.22\n",
       "Name: csi500, Length: 1948, dtype: float64"
      ]
     },
     "execution_count": 21,
     "metadata": {},
     "output_type": "execute_result"
    }
   ],
   "source": [
    "market_prices"
   ]
  },
  {
   "cell_type": "code",
   "execution_count": 22,
   "metadata": {},
   "outputs": [
    {
     "data": {
      "text/html": [
       "<div>\n",
       "<style scoped>\n",
       "    .dataframe tbody tr th:only-of-type {\n",
       "        vertical-align: middle;\n",
       "    }\n",
       "\n",
       "    .dataframe tbody tr th {\n",
       "        vertical-align: top;\n",
       "    }\n",
       "\n",
       "    .dataframe thead th {\n",
       "        text-align: right;\n",
       "    }\n",
       "</style>\n",
       "<table border=\"1\" class=\"dataframe\">\n",
       "  <thead>\n",
       "    <tr style=\"text-align: right;\">\n",
       "      <th></th>\n",
       "      <th>000009.SZ</th>\n",
       "      <th>000012.SZ</th>\n",
       "      <th>000021.SZ</th>\n",
       "      <th>000027.SZ</th>\n",
       "      <th>000031.SZ</th>\n",
       "    </tr>\n",
       "  </thead>\n",
       "  <tbody>\n",
       "    <tr>\n",
       "      <th>000009.SZ</th>\n",
       "      <td>0.312473</td>\n",
       "      <td>0.125388</td>\n",
       "      <td>0.134702</td>\n",
       "      <td>0.126535</td>\n",
       "      <td>0.102124</td>\n",
       "    </tr>\n",
       "    <tr>\n",
       "      <th>000012.SZ</th>\n",
       "      <td>0.125388</td>\n",
       "      <td>0.221878</td>\n",
       "      <td>0.098636</td>\n",
       "      <td>0.091700</td>\n",
       "      <td>0.085497</td>\n",
       "    </tr>\n",
       "    <tr>\n",
       "      <th>000021.SZ</th>\n",
       "      <td>0.134702</td>\n",
       "      <td>0.098636</td>\n",
       "      <td>0.261539</td>\n",
       "      <td>0.109820</td>\n",
       "      <td>0.105022</td>\n",
       "    </tr>\n",
       "    <tr>\n",
       "      <th>000027.SZ</th>\n",
       "      <td>0.126535</td>\n",
       "      <td>0.091700</td>\n",
       "      <td>0.109820</td>\n",
       "      <td>0.265788</td>\n",
       "      <td>0.133790</td>\n",
       "    </tr>\n",
       "    <tr>\n",
       "      <th>000031.SZ</th>\n",
       "      <td>0.102124</td>\n",
       "      <td>0.085497</td>\n",
       "      <td>0.105022</td>\n",
       "      <td>0.133790</td>\n",
       "      <td>0.244572</td>\n",
       "    </tr>\n",
       "  </tbody>\n",
       "</table>\n",
       "</div>"
      ],
      "text/plain": [
       "           000009.SZ  000012.SZ  000021.SZ  000027.SZ  000031.SZ\n",
       "000009.SZ   0.312473   0.125388   0.134702   0.126535   0.102124\n",
       "000012.SZ   0.125388   0.221878   0.098636   0.091700   0.085497\n",
       "000021.SZ   0.134702   0.098636   0.261539   0.109820   0.105022\n",
       "000027.SZ   0.126535   0.091700   0.109820   0.265788   0.133790\n",
       "000031.SZ   0.102124   0.085497   0.105022   0.133790   0.244572"
      ]
     },
     "execution_count": 22,
     "metadata": {},
     "output_type": "execute_result"
    }
   ],
   "source": [
    "S = risk_models.CovarianceShrinkage(prices).ledoit_wolf()\n",
    "S"
   ]
  },
  {
   "cell_type": "code",
   "execution_count": 23,
   "metadata": {},
   "outputs": [
    {
     "data": {
      "text/plain": [
       "-0.07444384204194748"
      ]
     },
     "execution_count": 23,
     "metadata": {},
     "output_type": "execute_result"
    }
   ],
   "source": [
    "delta = black_litterman.market_implied_risk_aversion(market_prices)\n",
    "delta"
   ]
  },
  {
   "cell_type": "code",
   "execution_count": 24,
   "metadata": {},
   "outputs": [
    {
     "data": {
      "text/plain": [
       "000009.SZ    0.008175\n",
       "000012.SZ    0.010623\n",
       "000021.SZ    0.010139\n",
       "000027.SZ    0.008083\n",
       "000031.SZ    0.010279\n",
       "dtype: float64"
      ]
     },
     "execution_count": 24,
     "metadata": {},
     "output_type": "execute_result"
    }
   ],
   "source": [
    "market_prior = black_litterman.market_implied_prior_returns(mcaps, delta, S)\n",
    "market_prior"
   ]
  },
  {
   "cell_type": "code",
   "execution_count": 25,
   "metadata": {},
   "outputs": [
    {
     "data": {
      "image/png": "[encoded data removed]",
      "text/plain": [
       "<Figure size 1000x500 with 1 Axes>"
      ]
     },
     "metadata": {},
     "output_type": "display_data"
    }
   ],
   "source": [
    "market_prior.plot.barh(figsize=(10,5));"
   ]
  },
  {
   "cell_type": "code",
   "execution_count": 31,
   "metadata": {},
   "outputs": [
    {
     "data": {
      "image/png": "[encoded data removed]",
      "text/plain": [
       "<Figure size 640x480 with 1 Axes>"
      ]
     },
     "metadata": {},
     "output_type": "display_data"
    }
   ],
   "source": [
    "prices.plot()\n",
    "plt.legend()\n",
    "plt.show()"
   ]
  },
  {
   "cell_type": "code",
   "execution_count": 40,
   "metadata": {},
   "outputs": [],
   "source": [
    "viewdict = {\n",
    "    \"000009.SZ\": 0.1,\n",
    "    \"000021.SZ\": 0.1,\n",
    "}\n",
    "bl = BlackLittermanModel(S, pi=market_prior, absolute_views=viewdict)"
   ]
  },
  {
   "cell_type": "code",
   "execution_count": 42,
   "metadata": {},
   "outputs": [],
   "source": [
    "confidences = [\n",
    "    0.5,\n",
    "    0.4,\n",
    "]"
   ]
  },
  {
   "cell_type": "code",
   "execution_count": 43,
   "metadata": {},
   "outputs": [],
   "source": [
    "bl = BlackLittermanModel(S, pi=market_prior, absolute_views=viewdict, omega=\"idzorek\", view_confidences=confidences,tau=1)"
   ]
  },
  {
   "cell_type": "code",
   "execution_count": 44,
   "metadata": {},
   "outputs": [
    {
     "data": {
      "text/plain": [
       "000009.SZ    0.061640\n",
       "000012.SZ    0.037077\n",
       "000021.SZ    0.056005\n",
       "000027.SZ    0.035933\n",
       "000031.SZ    0.034593\n",
       "dtype: float64"
      ]
     },
     "execution_count": 44,
     "metadata": {},
     "output_type": "execute_result"
    }
   ],
   "source": [
    "# Posterior estimate of returns\n",
    "ret_bl = bl.bl_returns()\n",
    "ret_bl"
   ]
  },
  {
   "cell_type": "code",
   "execution_count": 45,
   "metadata": {},
   "outputs": [
    {
     "data": {
      "text/html": [
       "<div>\n",
       "<style scoped>\n",
       "    .dataframe tbody tr th:only-of-type {\n",
       "        vertical-align: middle;\n",
       "    }\n",
       "\n",
       "    .dataframe tbody tr th {\n",
       "        vertical-align: top;\n",
       "    }\n",
       "\n",
       "    .dataframe thead th {\n",
       "        text-align: right;\n",
       "    }\n",
       "</style>\n",
       "<table border=\"1\" class=\"dataframe\">\n",
       "  <thead>\n",
       "    <tr style=\"text-align: right;\">\n",
       "      <th></th>\n",
       "      <th>Prior</th>\n",
       "      <th>Posterior</th>\n",
       "      <th>Views</th>\n",
       "    </tr>\n",
       "  </thead>\n",
       "  <tbody>\n",
       "    <tr>\n",
       "      <th>000009.SZ</th>\n",
       "      <td>0.008175</td>\n",
       "      <td>0.061640</td>\n",
       "      <td>0.1</td>\n",
       "    </tr>\n",
       "    <tr>\n",
       "      <th>000012.SZ</th>\n",
       "      <td>0.010623</td>\n",
       "      <td>0.037077</td>\n",
       "      <td>NaN</td>\n",
       "    </tr>\n",
       "    <tr>\n",
       "      <th>000021.SZ</th>\n",
       "      <td>0.010139</td>\n",
       "      <td>0.056005</td>\n",
       "      <td>0.1</td>\n",
       "    </tr>\n",
       "    <tr>\n",
       "      <th>000027.SZ</th>\n",
       "      <td>0.008083</td>\n",
       "      <td>0.035933</td>\n",
       "      <td>NaN</td>\n",
       "    </tr>\n",
       "    <tr>\n",
       "      <th>000031.SZ</th>\n",
       "      <td>0.010279</td>\n",
       "      <td>0.034593</td>\n",
       "      <td>NaN</td>\n",
       "    </tr>\n",
       "  </tbody>\n",
       "</table>\n",
       "</div>"
      ],
      "text/plain": [
       "              Prior  Posterior  Views\n",
       "000009.SZ  0.008175   0.061640    0.1\n",
       "000012.SZ  0.010623   0.037077    NaN\n",
       "000021.SZ  0.010139   0.056005    0.1\n",
       "000027.SZ  0.008083   0.035933    NaN\n",
       "000031.SZ  0.010279   0.034593    NaN"
      ]
     },
     "execution_count": 45,
     "metadata": {},
     "output_type": "execute_result"
    }
   ],
   "source": [
    "rets_df = pd.DataFrame([market_prior, ret_bl, pd.Series(viewdict)], \n",
    "             index=[\"Prior\", \"Posterior\", \"Views\"]).T\n",
    "rets_df"
   ]
  },
  {
   "cell_type": "code",
   "execution_count": 46,
   "metadata": {},
   "outputs": [
    {
     "data": {
      "image/png": "[encoded data removed]",
      "text/plain": [
       "<Figure size 1200x800 with 1 Axes>"
      ]
     },
     "metadata": {},
     "output_type": "display_data"
    }
   ],
   "source": [
    "rets_df.plot.bar(figsize=(12,8));"
   ]
  },
  {
   "cell_type": "code",
   "execution_count": 47,
   "metadata": {},
   "outputs": [],
   "source": [
    "from pypfopt import EfficientFrontier, objective_functions"
   ]
  },
  {
   "cell_type": "code",
   "execution_count": 48,
   "metadata": {},
   "outputs": [],
   "source": [
    "S_bl = bl.bl_cov()"
   ]
  },
  {
   "cell_type": "code",
   "execution_count": 60,
   "metadata": {},
   "outputs": [],
   "source": [
    "ef_og = EfficientFrontier(market_prior, S)\n",
    "ef_bl = EfficientFrontier(ret_bl, S_bl)"
   ]
  },
  {
   "cell_type": "code",
   "execution_count": 61,
   "metadata": {},
   "outputs": [],
   "source": [
    "def calcu_mw_weights(ef):\n",
    "    ef.add_objective(objective_functions.L2_reg)\n",
    "    ef.max_sharpe(risk_free_rate=0)\n",
    "    weights = ef.clean_weights()\n",
    "    return weights"
   ]
  },
  {
   "cell_type": "code",
   "execution_count": 62,
   "metadata": {},
   "outputs": [
    {
     "name": "stderr",
     "output_type": "stream",
     "text": [
      "/Users/afraaa/miniconda3/lib/python3.10/site-packages/pypfopt/efficient_frontier/efficient_frontier.py:262: UserWarning: max_sharpe transforms the optimization problem so additional objectives may not work as expected.\n",
      "  warnings.warn(\n"
     ]
    }
   ],
   "source": [
    "weights_bl_mw = calcu_mw_weights(ef_bl)"
   ]
  },
  {
   "cell_type": "code",
   "execution_count": 63,
   "metadata": {},
   "outputs": [
    {
     "name": "stderr",
     "output_type": "stream",
     "text": [
      "/Users/afraaa/miniconda3/lib/python3.10/site-packages/pypfopt/efficient_frontier/efficient_frontier.py:262: UserWarning: max_sharpe transforms the optimization problem so additional objectives may not work as expected.\n",
      "  warnings.warn(\n"
     ]
    }
   ],
   "source": [
    "weights_og_mw = calcu_mw_weights(ef_og)"
   ]
  },
  {
   "cell_type": "code",
   "execution_count": 132,
   "metadata": {},
   "outputs": [],
   "source": [
    "from RiskParityModel import *"
   ]
  },
  {
   "cell_type": "code",
   "execution_count": 133,
   "metadata": {},
   "outputs": [],
   "source": [
    "weights_og_rp = risk_parity_model(S,tickers)\n",
    "weights_bl_rp = risk_parity_model(S_bl,tickers)"
   ]
  },
  {
   "cell_type": "code",
   "execution_count": 134,
   "metadata": {},
   "outputs": [
    {
     "data": {
      "text/plain": [
       "{'000009.SZ': 0.20861001553349773,\n",
       " '000012.SZ': 0.18716733569472208,\n",
       " '000021.SZ': 0.20223571804088933,\n",
       " '000027.SZ': 0.20462902037862404,\n",
       " '000031.SZ': 0.19735791035226688}"
      ]
     },
     "execution_count": 134,
     "metadata": {},
     "output_type": "execute_result"
    }
   ],
   "source": [
    "weights_og_rp"
   ]
  },
  {
   "cell_type": "code",
   "execution_count": 91,
   "metadata": {},
   "outputs": [
    {
     "data": {
      "text/html": [
       "<div>\n",
       "<style scoped>\n",
       "    .dataframe tbody tr th:only-of-type {\n",
       "        vertical-align: middle;\n",
       "    }\n",
       "\n",
       "    .dataframe tbody tr th {\n",
       "        vertical-align: top;\n",
       "    }\n",
       "\n",
       "    .dataframe thead th {\n",
       "        text-align: right;\n",
       "    }\n",
       "</style>\n",
       "<table border=\"1\" class=\"dataframe\">\n",
       "  <thead>\n",
       "    <tr style=\"text-align: right;\">\n",
       "      <th></th>\n",
       "      <th>000009.SZ</th>\n",
       "      <th>000012.SZ</th>\n",
       "      <th>000021.SZ</th>\n",
       "      <th>000027.SZ</th>\n",
       "      <th>000031.SZ</th>\n",
       "    </tr>\n",
       "  </thead>\n",
       "  <tbody>\n",
       "    <tr>\n",
       "      <th>2015-01-07</th>\n",
       "      <td>1.158950</td>\n",
       "      <td>1.348903</td>\n",
       "      <td>1.622783</td>\n",
       "      <td>0.866714</td>\n",
       "      <td>1.996633</td>\n",
       "    </tr>\n",
       "    <tr>\n",
       "      <th>2015-01-08</th>\n",
       "      <td>1.160691</td>\n",
       "      <td>1.366871</td>\n",
       "      <td>1.649782</td>\n",
       "      <td>0.831642</td>\n",
       "      <td>2.009687</td>\n",
       "    </tr>\n",
       "    <tr>\n",
       "      <th>2015-01-09</th>\n",
       "      <td>1.128520</td>\n",
       "      <td>1.330935</td>\n",
       "      <td>1.612380</td>\n",
       "      <td>0.802400</td>\n",
       "      <td>1.937969</td>\n",
       "    </tr>\n",
       "    <tr>\n",
       "      <th>2015-01-12</th>\n",
       "      <td>1.112874</td>\n",
       "      <td>1.274066</td>\n",
       "      <td>1.703802</td>\n",
       "      <td>0.774638</td>\n",
       "      <td>1.911907</td>\n",
       "    </tr>\n",
       "    <tr>\n",
       "      <th>2015-01-13</th>\n",
       "      <td>1.149387</td>\n",
       "      <td>1.280047</td>\n",
       "      <td>1.780700</td>\n",
       "      <td>0.773905</td>\n",
       "      <td>1.935813</td>\n",
       "    </tr>\n",
       "    <tr>\n",
       "      <th>...</th>\n",
       "      <td>...</td>\n",
       "      <td>...</td>\n",
       "      <td>...</td>\n",
       "      <td>...</td>\n",
       "      <td>...</td>\n",
       "    </tr>\n",
       "    <tr>\n",
       "      <th>2022-12-26</th>\n",
       "      <td>1.814882</td>\n",
       "      <td>1.711353</td>\n",
       "      <td>2.380320</td>\n",
       "      <td>0.894353</td>\n",
       "      <td>0.876469</td>\n",
       "    </tr>\n",
       "    <tr>\n",
       "      <th>2022-12-27</th>\n",
       "      <td>1.763111</td>\n",
       "      <td>1.711353</td>\n",
       "      <td>2.395748</td>\n",
       "      <td>0.918772</td>\n",
       "      <td>0.883425</td>\n",
       "    </tr>\n",
       "    <tr>\n",
       "      <th>2022-12-28</th>\n",
       "      <td>1.732911</td>\n",
       "      <td>1.698788</td>\n",
       "      <td>2.358280</td>\n",
       "      <td>0.929456</td>\n",
       "      <td>0.899656</td>\n",
       "    </tr>\n",
       "    <tr>\n",
       "      <th>2022-12-29</th>\n",
       "      <td>1.722844</td>\n",
       "      <td>1.673658</td>\n",
       "      <td>2.347260</td>\n",
       "      <td>0.932508</td>\n",
       "      <td>0.869513</td>\n",
       "    </tr>\n",
       "    <tr>\n",
       "      <th>2022-12-30</th>\n",
       "      <td>1.738663</td>\n",
       "      <td>1.686223</td>\n",
       "      <td>2.356076</td>\n",
       "      <td>0.970663</td>\n",
       "      <td>0.871831</td>\n",
       "    </tr>\n",
       "  </tbody>\n",
       "</table>\n",
       "<p>1691 rows × 5 columns</p>\n",
       "</div>"
      ],
      "text/plain": [
       "            000009.SZ  000012.SZ  000021.SZ  000027.SZ  000031.SZ\n",
       "2015-01-07   1.158950   1.348903   1.622783   0.866714   1.996633\n",
       "2015-01-08   1.160691   1.366871   1.649782   0.831642   2.009687\n",
       "2015-01-09   1.128520   1.330935   1.612380   0.802400   1.937969\n",
       "2015-01-12   1.112874   1.274066   1.703802   0.774638   1.911907\n",
       "2015-01-13   1.149387   1.280047   1.780700   0.773905   1.935813\n",
       "...               ...        ...        ...        ...        ...\n",
       "2022-12-26   1.814882   1.711353   2.380320   0.894353   0.876469\n",
       "2022-12-27   1.763111   1.711353   2.395748   0.918772   0.883425\n",
       "2022-12-28   1.732911   1.698788   2.358280   0.929456   0.899656\n",
       "2022-12-29   1.722844   1.673658   2.347260   0.932508   0.869513\n",
       "2022-12-30   1.738663   1.686223   2.356076   0.970663   0.871831\n",
       "\n",
       "[1691 rows x 5 columns]"
      ]
     },
     "execution_count": 91,
     "metadata": {},
     "output_type": "execute_result"
    }
   ],
   "source": [
    "prices*weights_og_mw"
   ]
  },
  {
   "cell_type": "code",
   "execution_count": 88,
   "metadata": {},
   "outputs": [
    {
     "data": {
      "text/plain": [
       "OrderedDict([('000009.SZ', 0.14381),\n",
       "             ('000012.SZ', 0.2513),\n",
       "             ('000021.SZ', 0.2204),\n",
       "             ('000027.SZ', 0.15262),\n",
       "             ('000031.SZ', 0.23187)])"
      ]
     },
     "execution_count": 88,
     "metadata": {},
     "output_type": "execute_result"
    }
   ],
   "source": [
    "weights_og_mw"
   ]
  },
  {
   "cell_type": "code",
   "execution_count": 105,
   "metadata": {},
   "outputs": [],
   "source": [
    "return_comparison = pd.DataFrame(columns = ['og_mw','bl_mw','og_rp','bl_rp'])"
   ]
  },
  {
   "cell_type": "code",
   "execution_count": 112,
   "metadata": {},
   "outputs": [],
   "source": [
    "return_comparison['og_mw'] = (prices*weights_og_mw).sum(axis=1)"
   ]
  },
  {
   "cell_type": "code",
   "execution_count": 114,
   "metadata": {},
   "outputs": [],
   "source": [
    "return_comparison['bl_mw'] = (prices*weights_bl_mw).sum(axis=1)"
   ]
  },
  {
   "cell_type": "code",
   "execution_count": 137,
   "metadata": {},
   "outputs": [],
   "source": [
    "return_comparison['og_rp'] = (prices*weights_og_rp).sum(axis=1)\n",
    "return_comparison['bl_rp'] = (prices*weights_bl_rp).sum(axis=1)"
   ]
  },
  {
   "cell_type": "code",
   "execution_count": 138,
   "metadata": {},
   "outputs": [
    {
     "data": {
      "text/html": [
       "<div>\n",
       "<style scoped>\n",
       "    .dataframe tbody tr th:only-of-type {\n",
       "        vertical-align: middle;\n",
       "    }\n",
       "\n",
       "    .dataframe tbody tr th {\n",
       "        vertical-align: top;\n",
       "    }\n",
       "\n",
       "    .dataframe thead th {\n",
       "        text-align: right;\n",
       "    }\n",
       "</style>\n",
       "<table border=\"1\" class=\"dataframe\">\n",
       "  <thead>\n",
       "    <tr style=\"text-align: right;\">\n",
       "      <th></th>\n",
       "      <th>og_mw</th>\n",
       "      <th>bl_mw</th>\n",
       "      <th>og_rp</th>\n",
       "      <th>bl_rp</th>\n",
       "    </tr>\n",
       "  </thead>\n",
       "  <tbody>\n",
       "    <tr>\n",
       "      <th>2015-01-07</th>\n",
       "      <td>6.993983</td>\n",
       "      <td>7.232658</td>\n",
       "      <td>7.036383</td>\n",
       "      <td>7.017154</td>\n",
       "    </tr>\n",
       "    <tr>\n",
       "      <th>2015-01-08</th>\n",
       "      <td>7.018672</td>\n",
       "      <td>7.262006</td>\n",
       "      <td>7.041151</td>\n",
       "      <td>7.024251</td>\n",
       "    </tr>\n",
       "    <tr>\n",
       "      <th>2015-01-09</th>\n",
       "      <td>6.812205</td>\n",
       "      <td>7.059281</td>\n",
       "      <td>6.833151</td>\n",
       "      <td>6.816871</td>\n",
       "    </tr>\n",
       "    <tr>\n",
       "      <th>2015-01-12</th>\n",
       "      <td>6.777287</td>\n",
       "      <td>7.075006</td>\n",
       "      <td>6.792581</td>\n",
       "      <td>6.774404</td>\n",
       "    </tr>\n",
       "    <tr>\n",
       "      <th>2015-01-13</th>\n",
       "      <td>6.919852</td>\n",
       "      <td>7.271511</td>\n",
       "      <td>6.939927</td>\n",
       "      <td>6.919775</td>\n",
       "    </tr>\n",
       "    <tr>\n",
       "      <th>...</th>\n",
       "      <td>...</td>\n",
       "      <td>...</td>\n",
       "      <td>...</td>\n",
       "      <td>...</td>\n",
       "    </tr>\n",
       "    <tr>\n",
       "      <th>2022-12-26</th>\n",
       "      <td>7.677377</td>\n",
       "      <td>9.291928</td>\n",
       "      <td>8.036553</td>\n",
       "      <td>7.982296</td>\n",
       "    </tr>\n",
       "    <tr>\n",
       "      <th>2022-12-27</th>\n",
       "      <td>7.672409</td>\n",
       "      <td>9.222426</td>\n",
       "      <td>8.014271</td>\n",
       "      <td>7.961895</td>\n",
       "    </tr>\n",
       "    <tr>\n",
       "      <th>2022-12-28</th>\n",
       "      <td>7.619090</td>\n",
       "      <td>9.117061</td>\n",
       "      <td>7.954863</td>\n",
       "      <td>7.903474</td>\n",
       "    </tr>\n",
       "    <tr>\n",
       "      <th>2022-12-29</th>\n",
       "      <td>7.545783</td>\n",
       "      <td>9.051673</td>\n",
       "      <td>7.889868</td>\n",
       "      <td>7.837314</td>\n",
       "    </tr>\n",
       "    <tr>\n",
       "      <th>2022-12-30</th>\n",
       "      <td>7.623456</td>\n",
       "      <td>9.136732</td>\n",
       "      <td>7.983394</td>\n",
       "      <td>7.928973</td>\n",
       "    </tr>\n",
       "  </tbody>\n",
       "</table>\n",
       "<p>1691 rows × 4 columns</p>\n",
       "</div>"
      ],
      "text/plain": [
       "               og_mw     bl_mw     og_rp     bl_rp\n",
       "2015-01-07  6.993983  7.232658  7.036383  7.017154\n",
       "2015-01-08  7.018672  7.262006  7.041151  7.024251\n",
       "2015-01-09  6.812205  7.059281  6.833151  6.816871\n",
       "2015-01-12  6.777287  7.075006  6.792581  6.774404\n",
       "2015-01-13  6.919852  7.271511  6.939927  6.919775\n",
       "...              ...       ...       ...       ...\n",
       "2022-12-26  7.677377  9.291928  8.036553  7.982296\n",
       "2022-12-27  7.672409  9.222426  8.014271  7.961895\n",
       "2022-12-28  7.619090  9.117061  7.954863  7.903474\n",
       "2022-12-29  7.545783  9.051673  7.889868  7.837314\n",
       "2022-12-30  7.623456  9.136732  7.983394  7.928973\n",
       "\n",
       "[1691 rows x 4 columns]"
      ]
     },
     "execution_count": 138,
     "metadata": {},
     "output_type": "execute_result"
    }
   ],
   "source": [
    "return_comparison"
   ]
  },
  {
   "cell_type": "code",
   "execution_count": 139,
   "metadata": {},
   "outputs": [
    {
     "data": {
      "image/png": "[encoded data removed]",
      "text/plain": [
       "<Figure size 640x480 with 1 Axes>"
      ]
     },
     "metadata": {},
     "output_type": "display_data"
    }
   ],
   "source": [
    "return_comparison.plot()\n",
    "plt.legend()\n",
    "plt.show()"
   ]
  },
  {
   "cell_type": "code",
   "execution_count": null,
   "metadata": {},
   "outputs": [],
   "source": []
  }
 ],
 "metadata": {
  "kernelspec": {
   "display_name": "Python 3",
   "language": "python",
   "name": "python3"
  },
  "language_info": {
   "codemirror_mode": {
    "name": "ipython",
    "version": 3
   },
   "file_extension": ".py",
   "mimetype": "text/x-python",
   "name": "python",
   "nbconvert_exporter": "python",
   "pygments_lexer": "ipython3",
   "version": "3.11.1"
  },
  "orig_nbformat": 4,
  "vscode": {
   "interpreter": {
    "hash": "aee8b7b246df8f9039afb4144a1f6fd8d2ca17a180786b69acc140d282b71a49"
   }
  }
 },
 "nbformat": 4,
 "nbformat_minor": 2
}
